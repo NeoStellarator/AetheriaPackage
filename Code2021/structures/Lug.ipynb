{
 "cells": [
  {
   "cell_type": "markdown",
   "id": "06995388",
   "metadata": {},
   "source": [
    "<p>\n",
    "    <img src=\"lugfatigue.png\" width=\"250px\" height=\"1000px\" />\n",
    "    <img src=\"luggeom.png\" width=\"600px\" height=\"250px\" />\n",
    "</p>\n"
   ]
  },
  {
   "cell_type": "code",
   "execution_count": 8,
   "id": "328012df",
   "metadata": {},
   "outputs": [
    {
     "name": "stdout",
     "output_type": "stream",
     "text": [
      "a/c = 1.0, D / c = 1.5, D = 3\n"
     ]
    }
   ],
   "source": [
    "from Material import Material\n",
    "# Inputs\n",
    "a, c, D = 2, 2, 3\n",
    "onult = 70 # MPa\n",
    "mat = 'Al 7075'\n",
    "\n",
    "#Analysis\n",
    "con = 'T' + ('3' if '2024' in mat else '6')\n",
    "K = 3\n",
    "material = Material.load('../data/materials.csv', mat, con)\n",
    "print(f\"{a/c = }, {D / c = }, {D = }\")"
   ]
  },
  {
   "cell_type": "code",
   "execution_count": null,
   "id": "5e7a93b2",
   "metadata": {},
   "outputs": [],
   "source": [
    "k1, k2, k3 = 1, 1.6, 0.8\n",
    "k1k2k3 = k1 * k2 * k3\n",
    "K = 3"
   ]
  }
 ],
 "metadata": {
  "kernelspec": {
   "display_name": "Python 3",
   "language": "python",
   "name": "python3"
  },
  "language_info": {
   "codemirror_mode": {
    "name": "ipython",
    "version": 3
   },
   "file_extension": ".py",
   "mimetype": "text/x-python",
   "name": "python",
   "nbconvert_exporter": "python",
   "pygments_lexer": "ipython3",
   "version": "3.9.4"
  }
 },
 "nbformat": 4,
 "nbformat_minor": 5
}
