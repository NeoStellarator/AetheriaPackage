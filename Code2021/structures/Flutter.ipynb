{
 "cells": [
  {
   "cell_type": "markdown",
   "id": "4368fc98",
   "metadata": {},
   "source": [
    "# Flutter"
   ]
  },
  {
   "cell_type": "code",
   "execution_count": 76,
   "id": "ffcda703",
   "metadata": {},
   "outputs": [],
   "source": [
    "import numpy as np\n",
    "import control as c\n",
    "import control.matlab as ml\n",
    "import seaborn as sns\n",
    "import matplotlib.pyplot as plt\n",
    "from scipy.integrate import quad"
   ]
  },
  {
   "cell_type": "markdown",
   "id": "e69e4c04",
   "metadata": {},
   "source": [
    "## Inputs"
   ]
  },
  {
   "cell_type": "code",
   "execution_count": 78,
   "id": "ff3e8472",
   "metadata": {},
   "outputs": [],
   "source": [
    "massAC = 1200\n",
    "V = 77\n",
    "rhoair = 0.962870\n",
    "b = 11.4\n",
    "MAC = 0.5\n",
    "massperlength = 800 / 11 # kg/m\n",
    "cog = 0.5 # chords\n",
    "EI = 0.00014458520894992735 * 71e9 # Nm^2\n",
    "GJ = 5e6 # Nm^2\n",
    "ac = 0.25 # chords\n",
    "Cla = 2 * np.pi\n",
    "z = b / 4\n",
    "wingboxb, wingboxh = 0.6, 0.3\n",
    "S1 = 5.5\n",
    "u = 17 # gust velocity [m/s]"
   ]
  },
  {
   "cell_type": "markdown",
   "id": "3c80cb59",
   "metadata": {},
   "source": [
    "$T = \\frac{G J}{L} \\theta$\n",
    "\n",
    "$k_h = \\frac{C_1 \\cdot E I}{L^3} \\qquad k_\\alpha = \\frac{G J}{L}$\n",
    "\n",
    "Radius of gyration: $\\rho = \\sqrt{\\frac{I}{m}} = \\sqrt{\\frac{\\text{base} \\times \\text{height}}{6}}$"
   ]
  },
  {
   "cell_type": "code",
   "execution_count": 79,
   "id": "fce9176b",
   "metadata": {},
   "outputs": [],
   "source": [
    "class Flutter:\n",
    "    def __init__(s, **kwargs):\n",
    "        s.__dict__.update(kwargs)\n",
    "        s.ac *= s.MAC\n",
    "        s.q = 0.5 * s.rhoair * s.V ** 2\n",
    "        s.cg = s.cog * s.MAC\n",
    "        s.C1 = 3 # Fixed support\n",
    "        s.M = s.massperlength * (s.b/2 - z)\n",
    "        s.S = s.S1 / 2 # Half wing area\n",
    "        s.Iz = (s.M / 6) * s.wingboxb * s.wingboxh # https://www.piping-designer.com/index.php/mathematics/geometry/plane-geometry/2342-thin-wall-rectangle\n",
    "        s.sys = None\n",
    "        \n",
    "    def Divergence ( s, z ):\n",
    "        ka, kh = 2 * s.GJ / z, s.C1 * s.EI / (z / 2) ** 3\n",
    "        Dh = 0.02 * 2 * np.sqrt(kh * s.M) # https://www.sciencedirect.com/science/article/pii/S1877705816302284\n",
    "        Da = 0.02 * 2 * np.sqrt(s.Iz * ka)\n",
    "\n",
    "        A3 = (1 / s.M) * np.array([-kh, s.Cla * s.q * s.S, -Dh, 0])\n",
    "        A4 = (1 / s.Iz) * np.array([0, -ka + s.Cla * s.q * s.S * (s.cg - s.ac) * s.MAC, 0, -Da])\n",
    "\n",
    "        A = np.array([[0, 0, 1, 0],\n",
    "                      [0, 0, 0, 1], A3, A4])\n",
    "        B = np.concatenate([np.zeros((2, 2)), [[1 / s.M, 0], [0, 1 / s.Iz]]])\n",
    "        C = np.concatenate([np.identity(4), A[-2:, :], [[0, s.Cla * s.q * s.S, 0, 0]]])\n",
    "        D = np.concatenate([np.zeros((4, 2)), [[1 / s.M, 0], [0, 1 / s.Iz]], np.zeros((1, 2))])\n",
    "\n",
    "        s.sys = ml.ss(A, B, C, D)\n",
    "        return s.sys\n",
    "    \n",
    "    def gustResponse(s, u):\n",
    "        steps = int(1e4)\n",
    "        force = np.concatenate([np.array([[(s.q / s.V) * s.Cla * s.S * u, (s.q / s.V) * s.Cla * s.S * u * (s.cg-s.ac)]]).T] + \\\n",
    "                                   [[[0]*(steps-1), [0]*(steps-1)]], axis=1)\n",
    "        T = np.linspace(0, 10, steps)\n",
    "        T, y = c.forced_response(s.sys, T, U=force)\n",
    "        return T, y\n",
    "    \n",
    "    def plotResponse(s, u):\n",
    "        T, y = s.gustResponse(u)\n",
    "        plt.figure(figsize=(12, 6))\n",
    "        plt.subplot(1, 2, 2)\n",
    "        sns.lineplot(x=T, y=y[1, :] * 180 / np.pi)\n",
    "        plt.xlabel('Time [s]')\n",
    "        plt.ylabel('Angular displacement [degrees]')\n",
    "        plt.subplot(1, 2, 1)\n",
    "        sns.lineplot(x=T, y=y[0, :]*1e3)\n",
    "        plt.xlabel('Time [s]')\n",
    "        plt.ylabel('Vertical displacement [mm]')\n",
    "        plt.savefig('divergence.jpg')\n",
    "        plt.show()"
   ]
  },
  {
   "cell_type": "code",
   "execution_count": 80,
   "id": "a10835bf",
   "metadata": {},
   "outputs": [
    {
     "data": {
      "image/png": "[encoded data removed]",
      "text/plain": [
       "<Figure size 864x432 with 2 Axes>"
      ]
     },
     "metadata": {
      "needs_background": "light"
     },
     "output_type": "display_data"
    }
   ],
   "source": [
    "inp = dict(massAC=massAC, rhoair=rhoair, b=b,\n",
    "               MAC=MAC, massperlength=massperlength, cog=cog, EI=EI, GJ=GJ, ac=ac,\n",
    "               Cla=Cla, wingboxb=wingboxb, wingboxh=wingboxh, S1=S1, distanceT=distanceT)\n",
    "flut = Flutter(V=510, **inp)\n",
    "flut.Divergence(flut.b/4)\n",
    "flut.plotResponse(u)"
   ]
  },
  {
   "cell_type": "code",
   "execution_count": 75,
   "id": "4791ed65",
   "metadata": {},
   "outputs": [
    {
     "data": {
      "image/png": "[encoded data removed]",
      "text/plain": [
       "<Figure size 432x288 with 1 Axes>"
      ]
     },
     "metadata": {
      "needs_background": "light"
     },
     "output_type": "display_data"
    }
   ],
   "source": [
    "Vs = list(range(10, 480, 10))\n",
    "ys = []\n",
    "for V in Vs:\n",
    "    flut = Flutter(V=V, **inp)\n",
    "    flut.Divergence(flut.b/4)\n",
    "    T, y = flut.gustResponse(u)\n",
    "    ys.append(y[0, :].max()*1000)\n",
    "\n",
    "sns.lineplot(x=Vs, y=ys)\n",
    "plt.xlabel('Airspeed [m/s]')\n",
    "plt.ylabel('Maximum displacement [mm]')\n",
    "plt.savefig('divespeed.jpg')"
   ]
  },
  {
   "cell_type": "code",
   "execution_count": 9,
   "id": "0dc75b93",
   "metadata": {},
   "outputs": [
    {
     "data": {
      "text/plain": [
       "(array([-22079.63413583,  -3501.63806797,   3500.5965906 ,  22073.6252777 ]),\n",
       " matrix([[-0.00123958,  0.70705311,  0.70715827,  0.00124032],\n",
       "         [ 0.70705758,  0.00123805,  0.00124185, -0.70715381],\n",
       "         [-0.00781689,  0.70711614, -0.70701097, -0.00781944],\n",
       "         [ 0.70711169,  0.00781846, -0.00781787,  0.70701542]]))"
      ]
     },
     "execution_count": 9,
     "metadata": {},
     "output_type": "execute_result"
    }
   ],
   "source": [
    "np.linalg.eigh(sys.A)"
   ]
  },
  {
   "cell_type": "markdown",
   "id": "0289ae50",
   "metadata": {},
   "source": [
    "## Whirl Flutter"
   ]
  },
  {
   "cell_type": "code",
   "execution_count": null,
   "id": "fca79c50",
   "metadata": {},
   "outputs": [],
   "source": [
    "V = 10\n",
    "R = np.sqrt(0.46 / np.pi)\n",
    "r = R / 4\n",
    "t = 0.1 * r\n",
    "frac = 0.6\n",
    "Omega = 4000*2*np.pi/60\n",
    "chord = 0.5 # propeller\n",
    "a =  4 # Distance to connection (in radii)\n",
    "Nb = 5 # Number of blades\n",
    "rhoair = 0.962870\n",
    "clalpha = 2 * np.pi # lift curve prop"
   ]
  },
  {
   "cell_type": "code",
   "execution_count": null,
   "id": "42797286",
   "metadata": {},
   "outputs": [],
   "source": [
    "from Material import Material\n",
    "steel = Material.load(file='../data/materials.csv', material='AISI 4140', Condition='Annealed')\n",
    "steel.E\n",
    "t, r, a*r"
   ]
  },
  {
   "cell_type": "code",
   "execution_count": null,
   "id": "7dfe9708",
   "metadata": {},
   "outputs": [],
   "source": [
    "Mprop, Msupp = 502 * np.array([frac, 1-frac])\n",
    "Ix, In = 0.5 * Mprop * (R) ** 2 + (a * R) ** 2 * Msupp, 0.5 * Mprop * (R) ** 2 + (a * R) ** 2 * Mprop + 0.25 * Mprop * r ** 2 + Mprop * (a * R) ** 2 / 3\n",
    "Ixx = np.pi / 4 * (r ** 4 - (r - t) ** 4)\n",
    "E = 204774372000\n",
    "Kth = Kpsi = 3 * E * Ixx / (a * R) ** 3\n",
    "\n",
    "print(f\"{Kth = }, {Ixx = }\")\n",
    "Dth, Dpsi = 0.02 * np.sqrt(Kth * In), 0.02 * np.sqrt(Kpsi * In)\n",
    "print(f\"{Dth = }, {In = }\")\n",
    "\n",
    "mu = V / (Omega * R)\n",
    "A1 = (chord / R) * quad(lambda eta: mu * mu / np.sqrt(mu*mu + eta*eta), 0, 1)[0]\n",
    "A1p = mu * A1\n",
    "A2p = (chord / R) * quad(lambda eta: mu * mu * eta*eta / np.sqrt(mu*mu + eta*eta), 0, 1)[0]\n",
    "A3 = (chord / R) * quad(lambda eta: eta*eta / np.sqrt(mu*mu + eta*eta), 0, 1)[0]\n",
    "Ka = 0.5 * rhoair * clalpha * R ** 4 * Omega * Omega\n",
    "A34 = Nb * 0.5 * Ka * R * np.array([[a*A1p, -A2p, -(A3+a*a*A1)/Omega, 0],\n",
    "                                   [A2p, a*A1p, 0, -(A3 + a*a*A1)/Omega]])\n",
    "\n",
    "M = np.array([[In, 0], [0, In]])\n",
    "K = np.array([[Kth, 0], [0, Kpsi]])\n",
    "D = np.array([[Dth, -Ix * Omega], [Ix * Omega, Dpsi]])\n",
    "\n",
    "J = np.concatenate([np.concatenate([np.zeros((2, 2)), np.identity(2)], axis=1),\n",
    "                   np.concatenate([-np.linalg.inv(M) @ K, -np.linalg.inv(M) @ D], axis=1)])\n",
    "\n",
    "A = np.concatenate([J[:2, :], A34 + J[2:, :]])\n",
    "B = np.concatenate([np.zeros((2, 2)), -np.linalg.inv(M)])\n",
    "C = np.concatenate([np.identity(4), A[-2:]])\n",
    "D = np.concatenate([np.zeros((2, 2)), B])\n",
    "sys = ml.ss(A, B, C, D)\n",
    "t, y = c.forced_response(sys, T=np.linspace(0, 5, 1000), U=0, X0=np.array([[np.pi/180/2,  np.pi/180/2] + [0]*2]).T)\n",
    "plt.figure(figsize=(12, 6))\n",
    "plt.subplot(1, 2, 2)\n",
    "sns.lineplot(x=t, y=y[1, :] * 180 / np.pi)\n",
    "plt.xlabel('Time [s]')\n",
    "plt.ylabel('Yaw displacement [degrees]')\n",
    "plt.subplot(1, 2, 1)\n",
    "sns.lineplot(x=t, y=y[0, :] * 180 / np.pi)\n",
    "plt.xlabel('Time [s]')\n",
    "plt.ylabel('Pitch displacement [degrees]')\n",
    "plt.savefig('whirl.jpg')"
   ]
  },
  {
   "cell_type": "code",
   "execution_count": null,
   "id": "f566c20c",
   "metadata": {},
   "outputs": [],
   "source": [
    "vals, vex = np.linalg.eigh(sys.A)\n",
    "D = np.array([[Dth, -Ix * Omega], [Ix * Omega, Dpsi]])\n",
    "np.linalg.eigh(D)[0]"
   ]
  },
  {
   "cell_type": "code",
   "execution_count": null,
   "id": "2f8b4de2",
   "metadata": {},
   "outputs": [],
   "source": []
  }
 ],
 "metadata": {
  "kernelspec": {
   "display_name": "Python 3",
   "language": "python",
   "name": "python3"
  },
  "language_info": {
   "codemirror_mode": {
    "name": "ipython",
    "version": 3
   },
   "file_extension": ".py",
   "mimetype": "text/x-python",
   "name": "python",
   "nbconvert_exporter": "python",
   "pygments_lexer": "ipython3",
   "version": "3.9.5"
  }
 },
 "nbformat": 4,
 "nbformat_minor": 5
}
