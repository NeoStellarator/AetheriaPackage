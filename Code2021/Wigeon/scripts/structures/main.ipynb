{
 "cells": [
  {
   "cell_type": "markdown",
   "id": "c2feed18",
   "metadata": {},
   "source": [
    "# Structural Analysis"
   ]
  },
  {
   "cell_type": "markdown",
   "id": "28395e66",
   "metadata": {},
   "source": [
    "## Importing Libraries"
   ]
  },
  {
   "cell_type": "code",
   "execution_count": 5,
   "id": "5417f304",
   "metadata": {},
   "outputs": [],
   "source": [
    "import numpy as np\n",
    "import matplotlib.pyplot as plt\n",
    "import json"
   ]
  },
  {
   "cell_type": "markdown",
   "id": "b1c49167",
   "metadata": {},
   "source": [
    "## Inputs"
   ]
  },
  {
   "cell_type": "code",
   "execution_count": 2,
   "id": "28f54bad",
   "metadata": {},
   "outputs": [],
   "source": [
    "MAC = 0.4 # Mean Aerodynamic Chord [m]\n",
    "AR = 14 # [-]\n",
    "S = 5.5 # [m^2]\n",
    "taper = 0.4 # [-]\n",
    "rootchord = 0.5 # [m]\n",
    "thicknessChordRatio = 0.17 # [-]\n",
    "xAC = 0.25 # [-] position of ac with respect to the chord\n",
    "# Ldstr = \n",
    "mtom = 1972 # maximum take-off mass from statistical data - Class I estimation\n",
    "S1, S2 = 5.5, 5.5 # surface areas of wing one and two\n",
    "A = 14 # aspect ratio of a wing, not aircraft\n",
    "nmax = 3.2 # maximum load factor\n",
    "Pmax = 15.25 # this is defined as maximum perimeter in Roskam, so i took top down view of the fuselage perimeter\n",
    "lf = 7.2 # length of fuselage\n",
    "m_pax = 95 # average mass of a passenger according to Google\n",
    "n_prop = 16 # number of engines\n",
    "n_pax = 5 # number of passengers (pilot included)\n",
    "pos_fus = 3.6 # fuselage centre of mass away from the nose\n",
    "pos_lgear = 3.6 # landing gear position away from the nose\n",
    "pos_frontwing, pos_backwing = 0.2, 7 # positions of the wings away from the nose\n",
    "m_prop = [30]*16 # list of mass of engines (so 30 kg per engine with nacelle and propeller)\n",
    "pos_prop = [0.2, 0.2, 0.2, 0.2, 0.2, 0.2, 0.2, 0.2, 7.0, 7.0, 7.0, 7.0, 7.0, 7.0, 7.0, 7.0] # 8 on front wing and 8 on back wing\n",
    "Mac = 0.0645 * 0.5 * 1.2 * 53 ** 2 * 5.25 * 0.65 # aerodynamic moment around AC\n",
    "flighttime = 3 # [hr]\n",
    "turnovertime = 2 # we dont actually need this xd\n",
    "takeofftime = 0.1 # take off time\n",
    "span = np.sqrt(AR * S)\n",
    "enginePlacement = list(np.linspace(0.1*span/2, 0.8*span/2, 4))\n",
    "engineMass = 400 * 9.81 / 8\n",
    "Thover = 2960\n",
    "Tcruise = 2960"
   ]
  },
  {
   "cell_type": "markdown",
   "id": "4b1e82f8",
   "metadata": {},
   "source": [
    "## Optimized"
   ]
  },
  {
   "cell_type": "code",
   "execution_count": 3,
   "id": "0d04c50b",
   "metadata": {},
   "outputs": [],
   "source": [
    "thicknessOfSkin = 1e-3 # [m]\n",
    "thicknessOfSpar = 1e-2 # [m]\n",
    "nStrT = 1  # [-] number of stringers on the top\n",
    "nStrB = 1 # [-] number of stringers on the bottom\n",
    "StrA = 0.001 # [m^2] stringer cross-sectional area\n"
   ]
  },
  {
   "cell_type": "markdown",
   "id": "158f2ffa",
   "metadata": {},
   "source": [
    "## Wing Structure Geometry"
   ]
  },
  {
   "cell_type": "code",
   "execution_count": 6,
   "id": "c2c72793",
   "metadata": {},
   "outputs": [
    {
     "name": "stdout",
     "output_type": "stream",
     "text": [
      "normalBox = Wingbox(Height=0.14716855635053283, Base=0.6, Tsk = 0.001, Tsp = 0.01, Stringers = 0)\n",
      "wing = WingStructure(span=8.774964387392123, taper=0.4, rc=0.5, tc=0.2, box=Wingbox(Height=0.14716855635053283, Base=0.6, Tsk = 0.001, Tsp = 0.01, Stringers = 0))\n"
     ]
    }
   ],
   "source": [
    "from Geometry import HatStringer, JStringer, ZStringer, WingBox, WingStructure\n",
    "from SolveLoads import WingLoads, Engines, Fatigue\n",
    "from Weight import *\n",
    "from Material import Material\n",
    "\n",
    "base, height = 0.75 - 0.15, 0.11571117509557907 + 0.03145738125495376 # x/c, y/c\n",
    "\n",
    "n_ult = nmax*1.5 # 3.2 is the max we found, 1.5 is the safety factor\n",
    "\n",
    "print('normalBox =', normalBox := WingBox(thicknessOfSkin, thicknessOfSpar, base, height))\n",
    "\n",
    "print('wing =', wing := WingStructure(span := (AR * S) ** 0.5, taper, rootchord, normalBox))\n",
    "\n",
    "hatGeom = dict(bflange1 = 0.02, bflange2 =0.02, tflange = 0.02, vflange = 0.035, tstr = 0.001)\n",
    "\n",
    "args = dict(span=span, taper=taper, cr=rootchord, tsk=thicknessOfSkin, tsp=thicknessOfSpar,\n",
    "            toc=thicknessChordRatio, nStrT=nStrT, nStrB=nStrB, StrA=StrA, strType='Hat', strGeo=hatGeom, mac=MAC, xac=xAC,\n",
    "            engines=Engines(Thover, Tcruise, enginePlacement, engineMass),\n",
    "           frac=0.6)\n",
    "\n",
    "loads = WingLoads(**args)\n",
    "\n",
    "wing = Wing(mtom, S1, S2, n_ult, A, [pos_frontwing, pos_backwing])\n",
    "fuselage = Fuselage(mtom, Pmax, lf, n_pax, pos_fus)\n",
    "lgear = LandingGear(mtom, pos_lgear)\n",
    "props = Propulsion(n_prop, m_prop, pos_prop)\n",
    "w = Weight(m_pax, wing, fuselage, lgear, props, cargo_m = 85, cargo_pos = 6, battery_m = 400, battery_pos = 3.6, p_pax = [1.5, 3, 3, 4.2, 4.2])\n",
    "\n",
    "wingWeight = w.wing.mass[0] * 9.81\n",
    "lift = nmax * 1.5 * w.mtom * 9.81\n",
    "drag = lift / 19.03 # 19.03 is lift-to-drag ratio, need to change (replace by drag distribution)\n",
    "pos = np.linspace(0, span/2, 10000)\n",
    "dragd = 2 * drag / (np.pi * span) * np.sqrt(1 - 4 * np.power(pos / span, 2))\n",
    "liftd = 2 * lift / (np.pi * span) * np.sqrt(1 - 4 * np.power(pos / span, 2))\n",
    "\n",
    "reactionsCruise = loads.equilibriumCruise([pos, dragd], [pos, liftd], [pos, [Mac / span]*len(pos)], wingWeight)\n",
    "reactionsVTO = loads.equilibriumVTO(wingWeight)\n",
    "cruise_loads = loads.internalLoads([pos, dragd], [pos, liftd], [pos, [Mac / span]*len(pos)], wingWeight)\n",
    "VxVTO, MyVTO = loads.internalLoadsVTO(wingWeight)\n",
    "with open('ldists.json', 'w') as ld:\n",
    "    dists = {'liftd': [float(l) for l in liftd], 'dragd': [float(d) for d in dragd], 'pos': [float(p) for p in pos]}\n",
    "    ld.write(json.dumps(dists, indent=3))"
   ]
  },
  {
   "cell_type": "code",
   "execution_count": null,
   "id": "73213a1f",
   "metadata": {},
   "outputs": [],
   "source": [
    "from Draw import InternalLoading\n",
    "InternalLoading(0, span/2, **{l: loads[l] for l in 'T, My, Mx, Vx, Vy'.split(', ')}).show(renderer='iframe')"
   ]
  },
  {
   "cell_type": "code",
   "execution_count": null,
   "id": "dbdd6436",
   "metadata": {},
   "outputs": [],
   "source": [
    "InternalLoading(0, span/2, Vx = VxVTO, My = MyVTO).show(renderer='iframe')"
   ]
  },
  {
   "cell_type": "code",
   "execution_count": null,
   "id": "1458f190",
   "metadata": {},
   "outputs": [],
   "source": [
    "coords, o_cr, tau_cr, Ymcr = loads.stressesCruise()\n",
    "coords, o_VTO, tau_VTO, YmVTO = loads.stressesVTO()"
   ]
  },
  {
   "cell_type": "code",
   "execution_count": null,
   "id": "126ed03d",
   "metadata": {},
   "outputs": [],
   "source": [
    "# cruise\n",
    "print(WingLoads.extreme(coords, o_cr), WingLoads.extreme(coords, tau_cr))\n",
    "print(WingLoads.extreme(coords, Ymcr))\n",
    "print(sigmacr_max := WingLoads.extreme(coords, o_cr)[2]*1e-6, taucr_max := WingLoads.extreme(coords, tau_cr)[2]*1e-6)"
   ]
  },
  {
   "cell_type": "code",
   "execution_count": null,
   "id": "41e7d327",
   "metadata": {},
   "outputs": [],
   "source": [
    "# VTOL\n",
    "print(WingLoads.extreme(coords, o_VTO), WingLoads.extreme(coords, tau_VTO))\n",
    "print(WingLoads.extreme(coords, YmVTO))\n",
    "print(sigmaVTO_max := WingLoads.extreme(coords, o_VTO)[2]*1e-6, tauVTO_max := WingLoads.extreme(coords, tau_VTO)[2]*1e-6)"
   ]
  },
  {
   "cell_type": "code",
   "execution_count": null,
   "id": "2952051d",
   "metadata": {},
   "outputs": [],
   "source": [
    "\n",
    "# material = Material.load(file =material='Al 6061', Condition='T6')\n",
    "import os\n",
    "\n",
    "basepath =  '../' if 'structures' in os.popen('pwd').read().strip('\\n') else ''\n",
    "material = Material.load(file = basepath + 'data/materials.csv', material='Al 6061', Condition='T6') "
   ]
  },
  {
   "cell_type": "code",
   "execution_count": null,
   "id": "cc0727b5",
   "metadata": {},
   "outputs": [],
   "source": [
    "# fatigue\n",
    "\n",
    "lift = 1 * 1.5 * w.mtom * 9.81\n",
    "drag = lift / 19.03 # 19.03 is lift-to-drag ratio, need to change (replace by drag distribution)\n",
    "pos = np.linspace(0, span/2, 10000)\n",
    "dragd = 2 * drag / (np.pi * span) * np.sqrt(1 - 4 * np.power(pos / span, 2))\n",
    "liftd = 2 * lift / (np.pi * span) * np.sqrt(1 - 4 * np.power(pos / span, 2))\n",
    "\n",
    "fatigue_reactionsCruise = loads.equilibriumCruise([pos, dragd], [pos, liftd], [pos, [Mac / span]*len(pos)], wingWeight)\n",
    "fatigue_lift, fatigue_wgt = loads.internalLoads([pos, dragd], [pos, liftd], [pos, [Mac / span]*len(pos)], wingWeight)\n",
    "coords, ocrf, taucrf, Ymcrf = loads.stressesCruise()\n",
    "\n",
    "fatigue_reactionsVTO = loads.equilibriumVTO(wingWeight)\n",
    "fatigue_VxVTO, fatigue_MyVTO = loads.internalLoadsVTO(wingWeight)\n",
    "coords, oVTOf, tauVTOf, YmVTOf = loads.stressesVTO()\n",
    "\n",
    "fatigue_reactionsVTOgr = loads.equilibriumVTO(wingWeight, ground = True)\n",
    "fatigue_VxVTOgr, fatigue_MyVTOgr = loads.internalLoadsVTO(wingWeight, ground = True)\n",
    "coords, oVTOfgr, tauVTOfgr, YmVTOfgr = loads.stressesVTO()\n",
    "\n",
    "*coor, maxDif = loads.extreme(coords, oVTOf - ocrf)\n",
    "ind = [i for i in range(len(coords)) if np.all(coords[i] == coor)][0]\n",
    "\n",
    "oVTOfgrmd, oVTOfmd, ocrfmd = oVTOfgr[ind], oVTOf[ind], ocrf[ind]\n",
    "\n",
    "fatigue = Fatigue(oVTOfgrmd, oVTOfmd, ocrfmd, flighttime, turnovertime, takeofftime, material)\n",
    "\n",
    "t, y = fatigue.determineCycle()\n",
    "fdf = fatigue.getCycles()\n",
    "print(fatLife := fatigue.MinersRule())"
   ]
  },
  {
   "cell_type": "code",
   "execution_count": null,
   "id": "e3a8b6b6",
   "metadata": {},
   "outputs": [],
   "source": [
    "from Draw import DrawFatigue\n",
    "DrawFatigue(t, y).show(renderer='iframe')"
   ]
  },
  {
   "cell_type": "code",
   "execution_count": null,
   "id": "6d7fb924",
   "metadata": {},
   "outputs": [],
   "source": [
    "root = loads.wing(0)\n",
    "\n",
    "EofStringers = 72e9\n",
    "vOfStringers = 0.33\n",
    "yieldOfStringers = 275e6\n",
    "EofSkin = 72e9\n",
    "vOfSkin = 0.33\n",
    "\n",
    "root.Bstress(EofStringers, vOfStringers, yieldOfStringers, EofSkin, vOfSkin)*1e-6\n"
   ]
  }
 ],
 "metadata": {
  "kernelspec": {
   "display_name": "Python 3",
   "language": "python",
   "name": "python3"
  },
  "language_info": {
   "codemirror_mode": {
    "name": "ipython",
    "version": 3
   },
   "file_extension": ".py",
   "mimetype": "text/x-python",
   "name": "python",
   "nbconvert_exporter": "python",
   "pygments_lexer": "ipython3",
   "version": "3.9.4"
  }
 },
 "nbformat": 4,
 "nbformat_minor": 5
}
