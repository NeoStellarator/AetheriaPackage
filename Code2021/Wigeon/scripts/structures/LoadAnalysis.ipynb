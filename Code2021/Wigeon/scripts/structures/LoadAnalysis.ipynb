{
 "cells": [
  {
   "cell_type": "markdown",
   "id": "69692fd4",
   "metadata": {},
   "source": [
    "# Load cases for each configuration"
   ]
  },
  {
   "cell_type": "code",
   "execution_count": 4,
   "id": "961af7df",
   "metadata": {},
   "outputs": [],
   "source": [
    "import sys\n",
    "import numpy as np\n",
    "sys.path.append('../')\n",
    "\n",
    "# from Material import Material\n",
    "from Equilibrium import PointLoad, RunningLoad, EquilibriumEquation, Moment\n",
    "# from Geometry import WingBox\n",
    "from cg_est import Wing, Fuselage, LandingGear, Propulsion, Weight\n",
    "from MathFunctions import StepFunction, Poly as Polynomial\n",
    "from constants import *"
   ]
  },
  {
   "cell_type": "code",
   "execution_count": 10,
   "id": "9282510e",
   "metadata": {},
   "outputs": [
    {
     "data": {
      "text/latex": [
       "$\\displaystyle 1 + 2*(1*x)^1 + 3*(1*x)^2\n",
       "$"
      ],
      "text/plain": [
       "<IPython.core.display.Math object>"
      ]
     },
     "metadata": {},
     "output_type": "display_data"
    },
    {
     "data": {
      "text/latex": [
       "$\\displaystyle 3*[1 + 2*(1*x)^1 + 3*(1*x)^2]\n",
       "$"
      ],
      "text/plain": [
       "<IPython.core.display.Math object>"
      ]
     },
     "metadata": {},
     "output_type": "display_data"
    },
    {
     "data": {
      "text/latex": [
       "$\\displaystyle 1*[ y +2 ]^3 +4[ y +5 ]^6$"
      ],
      "text/plain": [
       "<IPython.core.display.Math object>"
      ]
     },
     "metadata": {},
     "output_type": "display_data"
    }
   ],
   "source": [
    "My = StepFunction([[1, 2, 3], [4, 5, 6]], 'y')\n",
    "y2 = Polynomial([1, 2, 3], symbol='x')\n",
    "show(y2)\n",
    "show(y2*3)\n"
   ]
  },
  {
   "cell_type": "code",
   "execution_count": 6,
   "id": "38124971",
   "metadata": {},
   "outputs": [],
   "source": [
    "from IPython.display import Math, display\n",
    "show = lambda func: display(Math(func.__str__()))\n",
    "SNCurve = lambda Sa, m=4.1, C=3.15e14: C * Sa ** (-m)"
   ]
  },
  {
   "cell_type": "markdown",
   "id": "28f51b06",
   "metadata": {
    "tags": []
   },
   "source": [
    "**Eliptical Lift Distribution**\n",
    "\n",
    "$(z/b)^2 + (y/a)^2 = 1$\n",
    "\n",
    "$2 L / (\\pi \\cdot b) = a$\n",
    "\n",
    "$y = a \\cdot \\sqrt{1 - 4 \\cdot (z/b)^2}$\n",
    "\n",
    "**Equilibrium**\n",
    "\n",
    "$\\sum \\vec{F} = \\vec{0}$\n",
    "\n",
    "$\\sum \\vec{M} = \\vec{0}$\n",
    "\n",
    "**Shear**\n",
    "\n",
    "$q_{2} - q_1 = \\int_{s1}^{s2}\\frac{\\delta q}{\\delta s} ds = -\\frac{V_y I_{yy} + V_x I_{xy}}{I_{xx}I_{yy} + I_{xy}^2}\\int_{s1}^{s2}tyds - \\frac{V_x I_{xx} + V_y I_{xy}}{I_{xx}I_{yy} + I_{xy}^2}\\int_{s1}^{s2}txds$\n",
    "\n",
    "**Bending**\n",
    "\n",
    "$\\sigma_z = \\frac{M_x y}{I_{xx}} + \\frac{M_y x}{I_{yy}}$"
   ]
  },
  {
   "cell_type": "markdown",
   "id": "c905894b",
   "metadata": {},
   "source": [
    "## Tandem Wing"
   ]
  },
  {
   "cell_type": "code",
   "execution_count": null,
   "id": "f4c33f22",
   "metadata": {},
   "outputs": [],
   "source": [
    "config = 1\n",
    "\n",
    "#sensitivity ------------\n",
    "#AR = 14\n",
    "#------------------------\n",
    "\n",
    "\n",
    "WoS = WS\n",
    "Pmax = 8.77182\n",
    "mProp = 400 / N_cruise\n",
    "thickness = 3e-3\n",
    "w_fus= 1.3; h_fus=1.6; l_fus=4\n",
    "nmax = 3.02\n",
    "b = (AR * S_front) ** 0.5\n",
    "\n",
    "w = Weight(95, Wing(mTO, S_front, S_back, 1.5*nmax, AR, [0.4, 3.6], config),\n",
    "           Fuselage(mTO, Pmax, l_fus, 5, l_fus/2, config),\n",
    "          LandingGear(mTO, l_fus/2),\n",
    "          Propulsion(N_cruise, [mProp]*N_cruise, pos_prop=[3.6]*int(N_cruise/2) + [0.4]*int(N_cruise/2)),\n",
    "          cargo_m, cargo_p, Bat_mass, l_fus/2, [0.8, 1.3, 1.3, 2.5, 2.5])\n",
    "\n",
    "ukloads = [PointLoad([1, 0, 0], [0, 0, 0]), PointLoad([0, 1, 0], [0, 0, 0]), PointLoad([0, 0, 1], [0, 0, 0]),\n",
    "          Moment([1, 0, 0]), Moment([0, 1, 0]), Moment([0, 0, 1])]\n",
    "\n",
    "Thrusts = [PointLoad([0, Max_T_engine, 0], [0, 0, d]) for d in np.linspace(0, b/2, round(N_hover / 4))]\n",
    "distrWeight = RunningLoad([[0]*3, [ -w.wing.get_weight()[0] * 9.81 / b ]*3], [0, b/4, b/2], 2)\n",
    "\n",
    "\n",
    "aluminum = Material.load(material='Al 6061', Condition='T6')\n",
    "box = WingBox(thickness, 0.8 * 0.17 * c_r, 0.8 * c_r, aluminum)\n",
    "\n",
    "eql = EquilibriumEquation(kloads=[distrWeight], ukloads=ukloads)\n",
    "eql.SetupEquation()\n",
    "Fx, Fy, Fz, Mx, My, Mz = eql.SolveEquation()\n",
    "\n",
    "print(\"AR = \", AR, \" b = \", b)\n",
    "\n",
    "print(\"VTOL: τ, σ, Y [MPa]\")\n",
    "print(tauVTOL := box.tau(box.b/2, 0, Fx, Fy, Mz)*1e-6)\n",
    "print(oVTOL := box.o(-box.b/2, -box.h/2, -Mx, My)*1e-6)\n",
    "print(YVTOL := (oVTOL ** 2 + 3 * tauVTOL ** 2) ** 0.5)\n",
    "\n",
    "rho = 1.205\n",
    "toc = 0.17\n",
    "box = WingBox(thickness, 0.8 * c_r, 0.8 * 0.17 * c_r, aluminum)\n",
    "\n",
    "liftWing = 2 * (9.81 * mTO * nmax * 1.5 / 2) / ( np.pi * b )\n",
    "zpos = np.linspace(0, b/2, 1000)\n",
    "Lift = RunningLoad([[0] * len(zpos), [liftWing * ( 1 - (z/b) ** 2 ) ** 0.5 for z in zpos]], zpos, axis=2)\n",
    "Drag = RunningLoad([[liftWing / LD_ratio * ( 1 - (z/b) ** 2 ) ** 0.5 for z in zpos], [0] * len(zpos)], zpos, axis=2, poa=(-0.25 * MAC1, 0))\n",
    "ADMoment = Moment([0, 0, Cm_ac_front * 0.5 * rho * V_cruise ** 2 * S_front * MAC1])\n",
    "Thrusts = [PointLoad([-liftWing * 4 / (LD_ratio*N_cruise), 0, 0],\n",
    "                     [0.45 * MAC1, toc * MAC1 * 0.5, d]) for d in np.linspace(0, b/2, round(N_cruise / 4))]\n",
    "\n",
    "cruise = EquilibriumEquation(kloads=[Lift, Drag, ADMoment, distrWeight] + Thrusts,\n",
    "                            ukloads=ukloads)\n",
    "cruise.SetupEquation()\n",
    "Rfx, Rfy, Rfz, Rmx, Rmy, Rmz = cruise.SolveEquation()\n",
    "print(\"\\nCruise: τ, σ, Y [MPa]\")\n",
    "print(taucr := box.tau(-box.b/2, 0, Rfx, Rfy, Rmz)*1e-6)\n",
    "print(ocr := box.o(-box.b/2, -box.h/2, -Rmx, Rmy)*1e-6)\n",
    "print(Ycr := (ocr ** 2 + 3 * taucr ** 2) ** 0.5)\n",
    "\n",
    "print(\"\\nFatigue:\")\n",
    "print(fatigueLife := aluminum.ParisFatigueN(ocr*1e6 - oVTOL*1e6, box.b, 0.375 * 1.2e-3, box.t/2)*1e-6)\n",
    "print(bucklingStress := aluminum.buckling(box.b, box.t)*1e-6)\n",
    "print(snLife := SNCurve(ocr - oVTOL)*1e-6)\n",
    "\n"
   ]
  },
  {
   "cell_type": "markdown",
   "id": "005efcee",
   "metadata": {},
   "source": [
    "## Box Wing"
   ]
  },
  {
   "cell_type": "code",
   "execution_count": null,
   "id": "ca41682a",
   "metadata": {},
   "outputs": [],
   "source": [
    "config = 2\n",
    "\n",
    "#sensitivity ------------\n",
    "#AR = 7\n",
    "#------------------------\n",
    "\n",
    "\n",
    "WoS = WS\n",
    "Pmax = 8.77182\n",
    "mProp = 400 / N_cruise\n",
    "thickness = 3e-3\n",
    "w_fus= 1.3; h_fus=1.6; l_fus=4\n",
    "nmax = 3.02\n",
    "b = (AR * S_front) ** 0.5\n",
    "\n",
    "aluminum = Material.load(material='Al 6061', Condition='T6')\n",
    "\n",
    "w = Weight(95, Wing(mTO, S_front, S_back, 1.5*nmax, AR, [0.4, 3.6], config),\n",
    "           Fuselage(mTO, Pmax, l_fus, 5, l_fus/2, config),\n",
    "          LandingGear(mTO, l_fus/2),\n",
    "          Propulsion(N_cruise, [mProp]*N_cruise, pos_prop=[3.6]*int(N_cruise/2) + [0.4]*int(N_cruise/2)),\n",
    "          cargo_m, cargo_p, Bat_mass, l_fus/2, [0.8, 1.3, 1.3, 2.5, 2.5])\n",
    "\n",
    "ukloads = [PointLoad([1, 0, 0], [0, 0, 0]), PointLoad([0, 1, 0], [0, 0, 0]), PointLoad([0, 0, 1], [0, 0, 0]),\n",
    "          Moment([1, 0, 0]), Moment([0, 1, 0]), Moment([0, 0, 1])]\n",
    "\n",
    "Thrusts = [PointLoad([0, Max_T_engine, 0], [0.45 * MAC1, 0, d]) for d in np.linspace(0.1 * b/2, 0.6 * b/2, round(N_hover / 4))]\n",
    "distrWeight = RunningLoad([[0]*3, [ -w.wing.get_weight()[0] * 9.81 / b ]*3], [0, b/4, b/2], 2)\n",
    "\n",
    "eql = EquilibriumEquation(kloads=[distrWeight], ukloads=ukloads)\n",
    "eql.SetupEquation()\n",
    "Fx, Fy, Fz, Mx, My, Mz = eql.SolveEquation()\n",
    "box = WingBox(thickness, 0.8 * c_r, 0.8 * 0.17 * c_r, aluminum)\n",
    "\n",
    "print(\"AR = \", AR, \" b = \", b)\n",
    "print(\"VTOL: τ, σ, Y [MPa]\")\n",
    "print(tauVTOL := box.tau(box.b/2, 0, Fx, Fy, Mz)*1e-6)\n",
    "print(oVTOL := box.o(0, box.h/2, -Mx, My)*1e-6)\n",
    "print(YVTOL := (oVTOL ** 2 + 3 * tauVTOL ** 2) ** 0.5)\n",
    "\n",
    "rho = 1.205\n",
    "toc = 0.17\n",
    "\n",
    "liftWing = 2 * (9.81 * mTO * nmax * 1.5 / 2) / ( np.pi * b )\n",
    "zpos = np.linspace(0, b/2, 1000)\n",
    "Lift = RunningLoad([[0] * len(zpos), [liftWing * ( 1 - (z/b) ** 2 ) ** 0.5 for z in zpos]], zpos, axis=2)\n",
    "Drag = RunningLoad([[liftWing / LD_ratio * ( 1 - (z/b) ** 2 ) ** 0.5 for z in zpos], [0] * len(zpos)], zpos, axis=2, poa=(-0.25 * MAC1, 0))\n",
    "ADMoment = Moment([0, 0, Cm_ac_front * 0.5 * rho * V_cruise ** 2 * S_front * MAC1])\n",
    "Thrusts = [PointLoad([-liftWing * 4 / (LD_ratio*N_cruise), 0, 0],\n",
    "                     [0.45 * MAC1, toc * MAC1 * 0.5, d]) for d in np.linspace(0.1 * b/2, 0.6 * b/2, round(N_cruise / 4))]\n",
    "\n",
    "cruise = EquilibriumEquation(kloads=[Lift, Drag, ADMoment, distrWeight] + Thrusts,\n",
    "                            ukloads=ukloads)\n",
    "cruise.SetupEquation()\n",
    "Rfx, Rfy, Rfz, Rmx, Rmy, Rmz = cruise.SolveEquation()\n",
    "print(f'{Rmz = }')\n",
    "print(\"\\nCruise: τ, σ, Y [MPa]\")\n",
    "print(taucr := box.tau(-box.b/2, 0, Rfx, Rfy, Rmz)*1e-6)\n",
    "print(ocr := box.o(box.b/2, box.h/2, -Rmx, Rmy)*1e-6)\n",
    "print(Ycr := (ocr ** 2 + 3 * taucr ** 2) ** 0.5)\n",
    "aluminum = Material.load(material='Al 6061', Condition='T6')\n",
    "print(\"\\nFatigue & Buckling:\")\n",
    "print(fatigueLife := aluminum.ParisFatigueN(-ocr*1e6 + oVTOL*1e6, box.b, 0.375 * 1.2e-3, box.t/2)*1e-6)\n",
    "print(bucklingStress := aluminum.buckling(box.b, box.t)*1e-6)\n"
   ]
  },
  {
   "cell_type": "markdown",
   "id": "c01e8263",
   "metadata": {},
   "source": [
    "$\\vec{x} = [F_{1x}, F_{2x}, F_{1y}, F_{2y}, M_{1x}, M_{2x}, M_{1y}, M_{2y}, M_{1z}, M_{2z}]^T$\n",
    "\n",
    "$\\sum F_x = 0 \\qquad \\sum F_y = 0 \\qquad \\sum M_x = 0 \\qquad \\sum M_y = 0 \\qquad \\sum M_z = 0$\n",
    "\n",
    "$\\phi_1(b/2) - \\phi_2(b/2) = 0 \\qquad \\phi(z) = \\int \\frac{M_z(z)}{G \\cdot J} dz$\n",
    "\n",
    "$w(z) = \\frac{-1}{E \\cdot I_{xx}} \\int \\int M_x(z) dz^2 \\qquad 0 = w_2(b/2) - \\phi_2(b/2) \\cdot l \\cdot \\cos{\\theta} - w_1(b/2) \\qquad \\frac{d w_1}{dz} - \\frac{d w_2}{dz} = 0$\n",
    "\n",
    "$v(z) = \\frac{-1}{E \\cdot I_{yy}} \\int \\int M_y(z) dz^2 \\qquad v_1(z) = v_2(z) + \\phi_2(b/2) \\cdot l \\cdot \\sin{\\theta} \\qquad \\frac{d v_1}{dz} = \\frac{d v_2}{dz}$"
   ]
  },
  {
   "cell_type": "code",
   "execution_count": null,
   "id": "1e8f2d7e",
   "metadata": {},
   "outputs": [],
   "source": [
    "Thrusts = sum([StepFunction([[Max_T_engine, d, 0]]) for d in np.linspace(0.1 * b/2, 0.6 * b/2, round(N_hover / 4))])\n",
    "wingWeight = StepFunction([[-w.wing.get_weight()[0] * 9.81 / b, 0, 1]])\n",
    "kvy1, kvy2 = [sum([wingWeight, Thrusts])]*2\n",
    "theta, l = 15 * pi / 180, 5\n",
    "aluminum = Material.load(material='Al 6061', Condition='T6')\n",
    "boxm = WingBox(thickness, 0.8 * MAC1, 0.8 * 0.17 * MAC1, aluminum)\n",
    "b = (AR * S_front) ** 0.5\n",
    "\n",
    "F1x, F2x, F1y, F2y = [StepFunction([[1, 0, 0]])]*4\n",
    "M1x, M2x, M1y, M2y, M1z, M2z = [StepFunction([[1, 0, 0]])]*6\n",
    "\n",
    "state = np.array([[\n",
    "    0,\n",
    "    -(kvy1(b/2) + kvy2(b/2)),\n",
    "    -(kvy1.integral() + kvy2.integral())(b/2),\n",
    "    0,\n",
    "    -Thrusts(b/2) * 0.45 * MAC1 * 2,\n",
    "    0,\n",
    "    (Thrusts.integral()(b/2) * 0.45 * MAC1) * l * cos(theta) / (aluminum.G * boxm.J()),\n",
    "    0,\n",
    "    -(Thrusts.integral()(b/2) * 0.45 * MAC1) * l * sin(theta) / (aluminum.G * boxm.J()),\n",
    "    0\n",
    "]]).T\n",
    "state"
   ]
  },
  {
   "cell_type": "markdown",
   "id": "9e3b0b7e",
   "metadata": {},
   "source": [
    "## Single Wing"
   ]
  },
  {
   "cell_type": "code",
   "execution_count": null,
   "id": "8e193ebb",
   "metadata": {
    "tags": []
   },
   "outputs": [],
   "source": [
    "config = 3\n",
    "\n",
    "#sensitivity ------------\n",
    "\n",
    "#------------------------\n",
    "\n",
    "\n",
    "WoS = WS\n",
    "Pmax = 8.77182\n",
    "mProp = 400 / N_cruise\n",
    "thickness = 3e-3\n",
    "w_fus= 1.3; h_fus=1.6; l_fus=4\n",
    "nmax = 3.02\n",
    "b = (AR * S_front) ** 0.5\n",
    "\n",
    "w = Weight(95, Wing(mTO, S_front, S_back, 1.5*nmax, AR, [0.4, 3.6], config),\n",
    "           Fuselage(mTO, Pmax, l_fus, 5, l_fus/2, config),\n",
    "          LandingGear(mTO, l_fus/2),\n",
    "          Propulsion(N_cruise, [mProp]*N_cruise, pos_prop=[3.6]*int(N_cruise/2) + [0.4]*int(N_cruise/2)),\n",
    "          cargo_m, cargo_p, Bat_mass, l_fus/2, [0.8, 1.3, 1.3, 2.5, 2.5])\n",
    "aluminum = Material.load(material='Al 6061', Condition='T6')\n",
    "\n",
    "ukloads = [PointLoad([1, 0, 0], [0, 0, 0]), PointLoad([0, 1, 0], [0, 0, 0]), PointLoad([0, 0, 1], [0, 0, 0]),\n",
    "          Moment([1, 0, 0]), Moment([0, 1, 0]), Moment([0, 0, 1])]\n",
    "\n",
    "Thrust = PointLoad([0, Max_T_wing_engine, 0], [0, 0, 0.1 * b])\n",
    "distrWeight = RunningLoad([[0]*3, [ -w.wing.get_weight()[0] * 9.81 / b ]*3], [0, b/4, b/2], 2)\n",
    "\n",
    "box = WingBox(thickness, 0.8 * c_r, 0.8 * 0.17 * c_r, aluminum)\n",
    "\n",
    "eql = EquilibriumEquation(kloads=[distrWeight], ukloads=ukloads)\n",
    "eql.SetupEquation()\n",
    "Fx, Fy, Fz, Mx, My, Mz = eql.SolveEquation()\n",
    "print(\"AR = \", AR, \" b = \", b)\n",
    "\n",
    "print(\"VTOL: τ, σ, Y [MPa]\")\n",
    "print(tauVTOL := box.tau(box.b/2, 0, Fx, Fy, Mz)*1e-6)\n",
    "print(oVTOL := box.o(-box.b/2, -box.h/2, -Mx, My)*1e-6)\n",
    "print(YVTOL := (oVTOL ** 2 + 3 * tauVTOL ** 2) ** 0.5)\n",
    "\n",
    "rho = 1.205\n",
    "toc = 0.17\n",
    "box = WingBox(thickness, 0.8 * c_r, 0.8 * 0.17 * c_r, aluminum)\n",
    "\n",
    "liftWing = 2 * (9.81 * mTO * nmax * 1.5) / ( np.pi * b )\n",
    "zpos = np.linspace(0, b/2, 1000)\n",
    "Lift = RunningLoad([[0] * len(zpos), [liftWing * ( 1 - (z/b) ** 2 ) ** 0.5 for z in zpos]], zpos, axis=2)\n",
    "Drag = RunningLoad([[liftWing / LD_ratio * ( 1 - (z/b) ** 2 ) ** 0.5 for z in zpos], [0] * len(zpos)], zpos, axis=2, poa=(-0.25 * MAC1, 0))\n",
    "ADMoment = Moment([0, 0, Cm_ac_front * 0.5 * rho * V_cruise ** 2 * S_front * MAC1])\n",
    "wEngine = PointLoad([0, -981, 0], [0, 0, 0.1 * b])\n",
    "cruise = EquilibriumEquation(kloads=[Lift, Drag, ADMoment, distrWeight, wEngine],\n",
    "                            ukloads=ukloads)\n",
    "cruise.SetupEquation()\n",
    "Rfx, Rfy, Rfz, Rmx, Rmy, Rmz = cruise.SolveEquation()\n",
    "print(\"\\nCruise: τ, σ, Y [MPa]\")\n",
    "print(taucr := box.tau(-box.b/2, 0, Rfx, Rfy, Rmz)*1e-6)\n",
    "print(ocr := box.o(-box.b/2, -box.h/2, -Rmx, Rmy)*1e-6)\n",
    "print(Ycr := (ocr ** 2 + 3 * taucr ** 2) ** 0.5)\n",
    "aluminum = Material.load(material='Al 6061', Condition='T6')\n",
    "print(\"\\nFatigue:\")\n",
    "print(fatigueLife := aluminum.ParisFatigueN(ocr*1e6 - oVTOL*1e6, box.b, 0.375 * 1.2e-3, box.t/2)*1e-6)\n",
    "print(bucklingStress := aluminum.buckling(box.b, box.t)*1e-6)"
   ]
  },
  {
   "cell_type": "code",
   "execution_count": null,
   "id": "287fffbc",
   "metadata": {},
   "outputs": [],
   "source": []
  }
 ],
 "metadata": {
  "kernelspec": {
   "display_name": "Python 3",
   "language": "python",
   "name": "python3"
  },
  "language_info": {
   "codemirror_mode": {
    "name": "ipython",
    "version": 3
   },
   "file_extension": ".py",
   "mimetype": "text/x-python",
   "name": "python",
   "nbconvert_exporter": "python",
   "pygments_lexer": "ipython3",
   "version": "3.9.4"
  }
 },
 "nbformat": 4,
 "nbformat_minor": 5
}
