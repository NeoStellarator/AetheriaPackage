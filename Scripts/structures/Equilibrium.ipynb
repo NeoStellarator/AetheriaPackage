{
 "cells": [
  {
   "cell_type": "markdown",
   "id": "5e7f4287",
   "metadata": {},
   "source": [
    "## Solve Loads"
   ]
  },
  {
   "cell_type": "code",
   "execution_count": 1,
   "id": "1db3cf8b",
   "metadata": {},
   "outputs": [],
   "source": [
    "# %%file SolveLoads.py\n",
    "import sys\n",
    "sys.path.append('../')\n",
    "\n",
    "import numpy as np\n",
    "from Equilibrium import *\n",
    "from constants import *\n",
    "\n",
    "def SolveACLoads(cg, acf, acb):\n",
    "    Weight = PointLoad([0, - mTO * 9.81, 0], [cg, 0, 0])\n",
    "    LFront = PointLoad([0, 1, 0], [acf, 0, 0])\n",
    "    LBack = PointLoad([0, 1, 0], [acb, 0, 0])\n",
    "    motion = EquilibriumEquation(kloads = [Weight], ukloads=[LFront, LBack])\n",
    "    motion.SetupEquation()\n",
    "    return list(motion.SolveEquation())\n",
    "\n",
    "def SolveWingLoads(MAC, b, Lwing, Dwing, mWing, TpE, nE):\n",
    "    pos = np.linspace(0, b / 2)\n",
    "    WingWeight = RunningLoad([[0]*len(pos), [- mWing * 9.81 / b]*len(pos)], pos, axis=2)\n",
    "    Lift = RunningLoad([[0]*len(pos), [Lwing / b] * len(pos)], pos, axis=2)\n",
    "    Drag = RunningLoad([[Dwing / b] * len(pos), [0]*len(pos)], pos, axis=2)\n",
    "    Thrust = [PointLoad([-TpE, 0, 0], [0, 0, i]) for i in np.linspace(0, b/2, round(N_cruise/4))]\n",
    "    MomentAC = Moment(value=[0, 0, 30])\n",
    "\n",
    "    Fixedx = PointLoad([1, 0, 0], [0.5 * MAC, 0, 0])\n",
    "    Fixedy = PointLoad([0, 1, 0], [0.5 * MAC, 0, 0])\n",
    "    Fixedz = PointLoad([0, 0, 1], [0.5 * MAC, 0, 0])\n",
    "\n",
    "    FixedMomentx, FixedMomenty, FixedMomentz = Moment([1, 0, 0]), Moment([0, 1, 0]), Moment([0, 0, 1])\n",
    "    wingequation = EquilibriumEquation(kloads=[WingWeight, Lift, Drag, MomentAC] + Thrust,\n",
    "                                       ukloads=[Fixedx, Fixedy, Fixedz, FixedMomentx, FixedMomenty, FixedMomentz])\n",
    "    wingequation.SetupEquation()\n",
    "    return wingequation"
   ]
  },
  {
   "cell_type": "code",
   "execution_count": 2,
   "id": "1b6b4247",
   "metadata": {},
   "outputs": [
    {
     "ename": "NameError",
     "evalue": "name 'mTO' is not defined",
     "output_type": "error",
     "traceback": [
      "\u001b[0;31m---------------------------------------------------------------------------\u001b[0m",
      "\u001b[0;31mNameError\u001b[0m                                 Traceback (most recent call last)",
      "\u001b[0;32m<ipython-input-2-dbafc66cae63>\u001b[0m in \u001b[0;36m<module>\u001b[0;34m\u001b[0m\n\u001b[0;32m----> 1\u001b[0;31m \u001b[0mprint\u001b[0m\u001b[0;34m(\u001b[0m\u001b[0mACLoads\u001b[0m \u001b[0;34m:=\u001b[0m \u001b[0mSolveACLoads\u001b[0m\u001b[0;34m(\u001b[0m\u001b[0;36m1.95\u001b[0m\u001b[0;34m,\u001b[0m \u001b[0;36m0.5\u001b[0m\u001b[0;34m,\u001b[0m \u001b[0;36m3.5\u001b[0m\u001b[0;34m)\u001b[0m\u001b[0;34m)\u001b[0m\u001b[0;34m\u001b[0m\u001b[0;34m\u001b[0m\u001b[0m\n\u001b[0m\u001b[1;32m      2\u001b[0m \u001b[0mwingequation\u001b[0m \u001b[0;34m=\u001b[0m \u001b[0mSolveWingLoads\u001b[0m\u001b[0;34m(\u001b[0m\u001b[0;36m0.2\u001b[0m\u001b[0;34m,\u001b[0m \u001b[0;36m11.2\u001b[0m\u001b[0;34m,\u001b[0m \u001b[0mACLoads\u001b[0m\u001b[0;34m[\u001b[0m\u001b[0;36m0\u001b[0m\u001b[0;34m]\u001b[0m\u001b[0;34m,\u001b[0m \u001b[0;36m800\u001b[0m\u001b[0;34m,\u001b[0m \u001b[0mmTO\u001b[0m \u001b[0;34m/\u001b[0m \u001b[0;36m8\u001b[0m\u001b[0;34m,\u001b[0m \u001b[0;36m100\u001b[0m\u001b[0;34m,\u001b[0m \u001b[0;36m3\u001b[0m\u001b[0;34m)\u001b[0m\u001b[0;34m\u001b[0m\u001b[0;34m\u001b[0m\u001b[0m\n\u001b[1;32m      3\u001b[0m \u001b[0mprint\u001b[0m\u001b[0;34m(\u001b[0m\u001b[0mWingLoads\u001b[0m \u001b[0;34m:=\u001b[0m \u001b[0mlist\u001b[0m\u001b[0;34m(\u001b[0m\u001b[0mwingequation\u001b[0m\u001b[0;34m.\u001b[0m\u001b[0mSolveEquation\u001b[0m\u001b[0;34m(\u001b[0m\u001b[0;34m)\u001b[0m\u001b[0;34m)\u001b[0m\u001b[0;34m)\u001b[0m\u001b[0;34m\u001b[0m\u001b[0;34m\u001b[0m\u001b[0m\n",
      "\u001b[0;32m<ipython-input-1-75b314d49d13>\u001b[0m in \u001b[0;36mSolveACLoads\u001b[0;34m(cg, acf, acb)\u001b[0m\n\u001b[1;32m      8\u001b[0m \u001b[0;34m\u001b[0m\u001b[0m\n\u001b[1;32m      9\u001b[0m \u001b[0;32mdef\u001b[0m \u001b[0mSolveACLoads\u001b[0m\u001b[0;34m(\u001b[0m\u001b[0mcg\u001b[0m\u001b[0;34m,\u001b[0m \u001b[0macf\u001b[0m\u001b[0;34m,\u001b[0m \u001b[0macb\u001b[0m\u001b[0;34m)\u001b[0m\u001b[0;34m:\u001b[0m\u001b[0;34m\u001b[0m\u001b[0;34m\u001b[0m\u001b[0m\n\u001b[0;32m---> 10\u001b[0;31m     \u001b[0mWeight\u001b[0m \u001b[0;34m=\u001b[0m \u001b[0mPointLoad\u001b[0m\u001b[0;34m(\u001b[0m\u001b[0;34m[\u001b[0m\u001b[0;36m0\u001b[0m\u001b[0;34m,\u001b[0m \u001b[0;34m-\u001b[0m \u001b[0mmTO\u001b[0m \u001b[0;34m*\u001b[0m \u001b[0;36m9.81\u001b[0m\u001b[0;34m,\u001b[0m \u001b[0;36m0\u001b[0m\u001b[0;34m]\u001b[0m\u001b[0;34m,\u001b[0m \u001b[0;34m[\u001b[0m\u001b[0mcg\u001b[0m\u001b[0;34m,\u001b[0m \u001b[0;36m0\u001b[0m\u001b[0;34m,\u001b[0m \u001b[0;36m0\u001b[0m\u001b[0;34m]\u001b[0m\u001b[0;34m)\u001b[0m\u001b[0;34m\u001b[0m\u001b[0;34m\u001b[0m\u001b[0m\n\u001b[0m\u001b[1;32m     11\u001b[0m     \u001b[0mLFront\u001b[0m \u001b[0;34m=\u001b[0m \u001b[0mPointLoad\u001b[0m\u001b[0;34m(\u001b[0m\u001b[0;34m[\u001b[0m\u001b[0;36m0\u001b[0m\u001b[0;34m,\u001b[0m \u001b[0;36m1\u001b[0m\u001b[0;34m,\u001b[0m \u001b[0;36m0\u001b[0m\u001b[0;34m]\u001b[0m\u001b[0;34m,\u001b[0m \u001b[0;34m[\u001b[0m\u001b[0macf\u001b[0m\u001b[0;34m,\u001b[0m \u001b[0;36m0\u001b[0m\u001b[0;34m,\u001b[0m \u001b[0;36m0\u001b[0m\u001b[0;34m]\u001b[0m\u001b[0;34m)\u001b[0m\u001b[0;34m\u001b[0m\u001b[0;34m\u001b[0m\u001b[0m\n\u001b[1;32m     12\u001b[0m     \u001b[0mLBack\u001b[0m \u001b[0;34m=\u001b[0m \u001b[0mPointLoad\u001b[0m\u001b[0;34m(\u001b[0m\u001b[0;34m[\u001b[0m\u001b[0;36m0\u001b[0m\u001b[0;34m,\u001b[0m \u001b[0;36m1\u001b[0m\u001b[0;34m,\u001b[0m \u001b[0;36m0\u001b[0m\u001b[0;34m]\u001b[0m\u001b[0;34m,\u001b[0m \u001b[0;34m[\u001b[0m\u001b[0macb\u001b[0m\u001b[0;34m,\u001b[0m \u001b[0;36m0\u001b[0m\u001b[0;34m,\u001b[0m \u001b[0;36m0\u001b[0m\u001b[0;34m]\u001b[0m\u001b[0;34m)\u001b[0m\u001b[0;34m\u001b[0m\u001b[0;34m\u001b[0m\u001b[0m\n",
      "\u001b[0;31mNameError\u001b[0m: name 'mTO' is not defined"
     ]
    }
   ],
   "source": [
    "print(ACLoads := SolveACLoads(1.95, 0.5, 3.5))\n",
    "wingequation = SolveWingLoads(0.2, 11.2, ACLoads[0], 800, mTO / 8, 100, 3)\n",
    "print(WingLoads := list(wingequation.SolveEquation()))"
   ]
  },
  {
   "cell_type": "code",
   "execution_count": 3,
   "id": "4100548d",
   "metadata": {},
   "outputs": [],
   "source": [
    "from IPython.display import Math, display\n",
    "show = lambda func: display(Math(func.__str__()))"
   ]
  },
  {
   "cell_type": "code",
   "execution_count": 4,
   "id": "a3733a39",
   "metadata": {},
   "outputs": [],
   "source": [
    "# uk: [ Fixedx, Fixedy, Fixedz, FixedMomentx, FixedMomenty, FixedMomentz ]\n",
    "# C1: [ -700.      -7419.38475     0.      20774.2773    -1960.       0. ]\n",
    "# C2: [ -600.      -7103.66625     0.      19890.2655    -1680.       0. ]\n",
    "# C3: [ -800.    -14883.87214286   0.     41674.842      -2240.       0. ]"
   ]
  },
  {
   "cell_type": "markdown",
   "id": "a8134fee",
   "metadata": {},
   "source": [
    "## Structures"
   ]
  },
  {
   "cell_type": "code",
   "execution_count": 2,
   "id": "ee3f7b6f",
   "metadata": {},
   "outputs": [],
   "source": [
    "# %%file Geometry.py\n",
    "import numpy as np\n",
    "from numpy import pi\n",
    "from MathFunctions import StepFunction\n",
    "import pandas as pd\n",
    "\n",
    "class StructuralError(Exception):\n",
    "    def __init__(self, msg):\n",
    "        super().__init__(msg)\n",
    "\n",
    "class Stringer:\n",
    "    def __init__(self, area = 0.001, point = (0, 0), **kwargs):\n",
    "        self.a, (self.x, self.y) = area, point\n",
    "        \n",
    "    __repr__ = __str__ = lambda self: f\"Stringer(Area={str(self.a)}, Position={str(self.x), str(self.y)})\"\n",
    "    \n",
    "    Ixx = lambda self: self.a * self.y**2\n",
    "    Iyy = lambda self: self.a * self.x**2\n",
    "\n",
    "class ZStringer(Stringer):\n",
    "    def __init__(self, point = (0, 0), bflange = 0.05, tflange = 0.05, vflange = 0.05, tstr = 0.001):\n",
    "        super().__init__((tflange + bflange1 + bflange2 + 2*vflange)*tstr, point)\n",
    "        self.bflange, self.tflange, self.vflange, self.t = bflange, tflange, vflange, tstr\n",
    "\n",
    "        self.a = (self.bflange + self.tflange + self.vflange) * self.t\n",
    "    ccarea = lambda self: self.a\n",
    "    __repr__ = __str__ = lambda self: \"Z-Stringer(\" + ', '.join(f\"{k}={self.__dict__[k]}\" for k in self.__dict__) + \")\"\n",
    "    \n",
    "    def cripplingStress(self, E, v, sigma_y):\n",
    "        alpha, n = 0.8, 0.6\n",
    "        sdict = {}\n",
    "        sdict['ccstress1'] = 0.8 * (0.425/sigma_y * (np.pi**2 * E / (12 * (1 - v**2))) * (self.t / self.bflange)**2) ** (1 - n) * sigma_y\n",
    "        sdict['ccstress2'] = 0.8 * (0.425/sigma_y * (np.pi**2 * E / (12 * (1 - v**2))) * (self.t / self.tflange)**2) ** (1 - n) * sigma_y\n",
    "        sdict['ccstress3'] = 0.8 * (4/sigma_y * (np.pi**2 * E / (12 * (1 - v**2))) * (self.t / self.vflange)**2) ** (1 - n) * sigma_y\n",
    "        for (key, value) in sdict.items():\n",
    "            if value > sigma_y:\n",
    "                sdict[key] = sigma_y\n",
    "        return (sdict['ccstress1'] * self.t * self.bflange \n",
    "                + sdict['ccstress2'] * self.t * self.tflange\n",
    "                + sdict['ccstress3'] * self.t * self.vflange) / self.a\n",
    "    \n",
    "class HatStringer(Stringer):\n",
    "    def __init__(self, point = (0, 0), bflange1 = 0.05, bflange2 =0.05, tflange = 0.05, vflange = 0.05, tstr = 0.001):\n",
    "        super().__init__((tflange + bflange1 + bflange2 + 2*vflange)*tstr, point)\n",
    "        self.bflange1, self.bflange2, self.tflange, self.vflange, self.t = bflange1, bflange2, tflange, vflange, tstr\n",
    "        self.a = (self.bflange1 + self.bflange2 + self.tflange + 2*self.vflange) * self.t\n",
    "        \n",
    "    ccarea = lambda self: self.a\n",
    "    __repr__ = __str__ = lambda self: \"HAT-Stringer(\" + ', '.join(f\"{k}={self.__dict__[k]}\" for k in self.__dict__) + \")\"\n",
    "    \n",
    "    \n",
    "    def cripplingStress(self, E, v, sigma_y):\n",
    "        alpha, n = 0.8, 0.6\n",
    "        sdict = {}\n",
    "        sdict['ccstress1'] = 0.8 * (0.425/sigma_y * (np.pi**2 * E / (12 * (1 - v**2))) * (self.t / (self.bflange1))**2) ** (1 - n) * sigma_y\n",
    "        sdict['ccstress5'] = 0.8 * (0.425/sigma_y * (np.pi**2 * E / (12 * (1 - v**2))) * (self.t / (self.bflange2))**2) ** (1 - n) * sigma_y\n",
    "        sdict['ccstress24'] = 0.8 * (4/sigma_y * (np.pi**2 * E / (12 * (1 - v**2))) * (self.t / (self.vflange))**2) ** (1 - n) * sigma_y\n",
    "        sdict['ccstress3'] = 0.8 * (4/sigma_y * (np.pi**2 * E / (12 * (1 - v**2))) * (self.t / (self.tflange))**2) ** (1 - n) * sigma_y\n",
    "        for (key, value) in sdict.items():\n",
    "            if value > sigma_y:\n",
    "                sdict[key] = sigma_y\n",
    "        return (sdict['ccstress1'] * self.t * self.bflange1\n",
    "                + sdict['ccstress5'] * self.t * self.bflange2\n",
    "                + 2 * sdict['ccstress24'] * self.t * self.vflange + sdict['ccstress3'] * self.t * self.tflange) / self.a\n",
    "\n",
    "class JStringer(Stringer):\n",
    "    def __init__(self, point = (0, 0), bflange1 = 0.05, bflange2 =0.05, tflange = 0.05, vflange = 0.05, tstr = 0.001):\n",
    "        super().__init__((tflange + bflange1 + bflange2 + 2*vflange)*tstr, point)\n",
    "        self.bflange1, self.bflange2, self.tflange, self.vflange, self.t = bflange1, bflange2, tflange, vflange, tstr\n",
    "        \n",
    "        self.a = (self.bflange1 + self.bflange2 + self.tflange + self.vflange) * self.t\n",
    "        \n",
    "    ccarea = lambda self: self.a\n",
    "    __repr__ = __str__ = lambda self: \"J-Stringer(\" + ', '.join(f\"{k}={self.__dict__[k]}\" for k in self.__dict__) + \")\"\n",
    "    \n",
    "    def cripplingStress(self, E, v, sigma_y):\n",
    "        alpha, n = 0.8, 0.6\n",
    "        self.sdict = {}\n",
    "        self.sdict['ccstress1'] = 0.8 * (0.425/sigma_y * (np.pi**2 * E / (12 * (1 - v**2))) * (self.t / (self.bflange1))**2) ** (1 - n) * sigma_y\n",
    "        self.sdict['ccstress2'] = 0.8 * (0.425/sigma_y * (np.pi**2 * E / (12 * (1 - v**2))) * (self.t / (self.bflange2))**2) ** (1 - n) * sigma_y\n",
    "        self.sdict['ccstress3'] = 0.8 * (4/sigma_y * (np.pi**2 * E / (12 * (1 - v**2))) * (self.t / (self.vflange))**2) ** (1 - n) * sigma_y\n",
    "        self.sdict['ccstress4'] = 0.8 * (0.425/sigma_y * (np.pi**2 * E / (12 * (1 - v**2))) * (self.t / (self.tflange))**2) ** (1 - n) * sigma_y\n",
    "        for (key, value) in self.sdict.items():\n",
    "            if value > sigma_y:\n",
    "                self.sdict[key] = sigma_y\n",
    "        return (self.sdict['ccstress1'] * self.t * self.bflange1\n",
    "                + self.sdict['ccstress2'] * self.t * self.bflange2\n",
    "                + self.sdict['ccstress3'] * self.t * self.vflange + self.sdict['ccstress4'] * self.t * self.tflange) / self.a\n",
    "    \n",
    "class WingBox:\n",
    "    def __init__(self, thicknessOfSkin, thicknessOfSpar, base, height, stringers = []):\n",
    "        self.b, self.h, self.tsk, self.tsp = base, height, thicknessOfSkin, thicknessOfSpar\n",
    "        self.str = stringers\n",
    "        tstrs, bstrs = sum(1 for stringer in stringers if stringer.y > 0), sum(1 for stringer in stringers if stringer.y < 0)\n",
    "        self.tspitch, self.bspitch = self.b/(tstrs + 1), self.b/(bstrs + 1)\n",
    "\n",
    "    \n",
    "    __str__ = __repr__ = lambda self: \\\n",
    "    f\"Wingbox(Height={str(self.h)}, Base={str(self.b)}, Tsk = {str(self.tsk)}, Tsp = {str(self.tsp)}, Stringers = {len(self.str)})\"\n",
    "    \n",
    "    Area = lambda self: self.b * self.h - (self.b - 2 * self.tsp) * (self.h - 2 * self.tsk) + sum(s.a for s in self.str)\n",
    "\n",
    "    Ixx = lambda self: (self.tsp * self.h ** 3 + self.b * self.tsk ** 3) / 6 + (self.tsk * self.b * self.h ** 2) / 2 + sum(s.Ixx() for s in self.str)\n",
    "    \n",
    "    Iyy = lambda self: (self.tsk ** 3 * self.h + self.b ** 3 * self.tsp) / 6 + (self.tsp * self.h * self.b ** 2) / 2 + sum(s.Iyy() for s in self.str)\n",
    "    \n",
    "    Vc = Ixy = lambda self: 0\n",
    "    \n",
    "    def StrPlacement(self, nstr_top:int , nstr_bottom:int, stringerGeometry = {}, stringerType = 'Point'):\n",
    "        strtype = {'Z':ZStringer, 'Hat':HatStringer, 'J':JStringer, 'Point': Stringer}[stringerType]\n",
    "        topstringers = [strtype(point = (i*self.b/(nstr_top + 1) - self.b/2, self.h/2), **stringerGeometry) for i in range(1, nstr_top+1)]\n",
    "        bottomstringers = [strtype(point = (i*self.b/(nstr_bottom + 1) - self.b/2, -self.h/2), **stringerGeometry) for i in range(1, nstr_bottom+1)]\n",
    "        self.tspitch, self.bspitch = self.b/(nstr_top + 1), self.b/(nstr_bottom + 1)\n",
    "        self.str = self.str.copy() + topstringers + bottomstringers\n",
    "        \n",
    "    def Vshear(self, Vy, x, y):\n",
    "        Ixx = self.Ixx()\n",
    "        inrge = lambda l1, u1, l2, u2: l1 <= x <= u1 and l2 <= y <= u2\n",
    "        vit = - Vy * self.tsp / Ixx if (-self.b/2 <= x <= -self.b/2 + self.tsp) or (self.b/2 - self.tsp <= x <= self.b/2) else - Vy * self.tsk / Ixx\n",
    "        if inrge(0, self.b/2 - 1.5*self.tsp, -self.h/2, -self.h/2 + self.tsk):\n",
    "            return vit * (-self.h * x / 2)\n",
    "        elif inrge(self.b/2-1.5*self.tsp, self.b/2, -self.h/2, self.h/2):\n",
    "            s = self.h/2 + y\n",
    "            return vit * (0.5 * s * s - self.h * s / 2) + self.Vshear(Vy, self.b/2 - 1.5*self.tsp, -self.h/2)\n",
    "        elif inrge(-self.b/2 + 1.5*self.tsp, self.b/2 - 1.5*self.tsp, self.h/2-self.tsk, self.h/2):\n",
    "            s = self.b/2 - x\n",
    "            return vit * (self.h*s/2) + self.Vshear(Vy, self.b/2, self.h/2)\n",
    "        elif inrge(-self.b/2, -self.b/2+1.5*self.tsp, -self.h/2, self.h/2):\n",
    "            s = self.h/2 - y\n",
    "            return vit * (-0.5 * s * s + self.h * s / 2) + self.Vshear(Vy, -self.b/2 + 1.5*self.tsp, self.h/2)\n",
    "        elif inrge(-self.b/2 + 1.5*self.tsp, 0, -self.h/2, -self.h/2+self.tsk):\n",
    "            return vit * (-self.h * (x + self.b/2) / 2) + self.Vshear(Vy, -self.b/2, -self.h/2)\n",
    "        else:\n",
    "            raise ValueError(f\"Invalid Coordinates Supplied: {(x, y) = }\")\n",
    "\n",
    "    def Hshear(self, Vx, x, y):\n",
    "        Iyy = self.Iyy()\n",
    "        inrge = lambda l1, u1, l2, u2: l1 <= x <= u1 and l2 <= y <= u2\n",
    "        vit = - Vx * self.tsp / Iyy if (-self.b/2 <= x <= -self.b/2 + self.tsp) or (self.b/2 - self.tsp <= x <= self.b/2) else - Vx * self.tsk / Iyy\n",
    "        if inrge(-self.b/2, -self.b/2+self.tsp, -self.h/2, 0):\n",
    "            return vit * (self.b * y / 2)\n",
    "        elif inrge(-self.b/2, self.b/2, -self.h/2, -self.h/2+self.tsk):\n",
    "            s = x + self.b/2\n",
    "            return vit * (0.5 * s * s - self.b * s / 2) + self.Hshear(Vx, -self.b/2, -self.h/2)\n",
    "        elif inrge(self.b/2 -self.tsp, self.b, -self.h/2, self.h/2):\n",
    "            return vit * (self.b * (y + self.h/2) / 2) + self.Hshear(Vx, self.b/2, -self.h/2)\n",
    "        elif inrge(-self.b/2, self.b/2, self.h/2-self.tsk, self.h/2):\n",
    "            s = -x + self.b/2\n",
    "            return vit * (-0.5 * s * s + self.b * s / 2) + self.Hshear(Vx, self.b/2, self.h/2)\n",
    "        elif inrge(-self.b/2, -self.b/2+self.tsp, 0, self.h/2):\n",
    "            return vit * (-self.b * (self.h/2-y) / 2) + self.Hshear(Vx, -self.b/2, self.h/2)\n",
    "        else:\n",
    "            raise ValueError(f\"Invalid Coordinates Supplied: {(x, y) = }\")\n",
    "    \n",
    "    q = lambda self, x, y, Vx=0, Vy=0, T=0: self.Vshear(Vy, x, y) + self.Hshear(Vx, x, y) + T / (2 * self.Area())\n",
    "    tau = lambda self, x, y, Vx=0, Vy=0, T=0: self.q(x, y, Vx, Vy, T) / (self.tsp if \\\n",
    "        (-self.b/2 <= x <= -self.b/2 + self.tsp) or (self.b/2 - self.tsp <= x <= self.b/2) else self.tsk)\n",
    "    \n",
    "    o = lambda self, x, y, Mx=0, My=0: My * x / self.Iyy() + Mx * y / self.Ixx()\n",
    "    \n",
    "    def Bstress(self, EofStringers, vOfStringers, yieldOfStringers, EofSkin, vOfSkin, top_panel = True):\n",
    "        # stringer properties - in case different material is used\n",
    "        Estr, vstr, ystr = EofStringers, vOfStringers, yieldOfStringers\n",
    "        ccstr = self.str[0].cripplingStress(Estr, vstr, ystr)\n",
    "        ccarea = self.str[0].ccarea()\n",
    "        # skin properties\n",
    "        Esk, vsk = EofSkin, vOfSkin\n",
    "        # pitch depends on which panel is taken, top or bottom\n",
    "        pitch = self.tspitch if top_panel else self.bspitch\n",
    "        sigma_crskin = 4 * (np.pi ** 2 * Esk/(12 * (1 - vsk**2)))*(self.tsk / (pitch))**2\n",
    "        C = 6.98 if pitch/self.tsk > 75 else 4\n",
    "        we = 0 #self.tsk * np.sqrt(np.pi ** 2 * C * Esk/(ccstr*12*(1-vsk**2)))\n",
    "        new_pitch = pitch - we\n",
    "        new_sigma_crskin = 4 * (np.pi ** 2 * Esk/(12 * (1 - vsk**2)))*(self.tsk / (new_pitch))**2\n",
    "        if new_pitch < 0:\n",
    "            raise StructuralError(\"Invalid pitch length: \" + str(new_pitch))\n",
    "        return (new_sigma_crskin * new_pitch * self.tsk + ccstr * (ccarea + we * self.tsk))/ (new_pitch * self.tsk + (ccarea + we * self.tsk))\n",
    "\n",
    "class WingStructure:\n",
    "    def __init__(self, span, taper, rootchord, wingbox):\n",
    "        self.span, self.taper, self.rc = span, taper, rootchord\n",
    "        self.tc = self.rc * self.taper\n",
    "        self.box = wingbox\n",
    "    \n",
    "    chord = lambda self, z: self.rc * (self.taper - 1) * z / (self.span/2) + self.rc if (0 <= z <= self.span/2) else None\n",
    "    __call__ = lambda self, z: WingBox(self.box.tsk, self.box.tsp, self.box.b*self.chord(z), self.box.h*self.chord(z), self.box.str)\n",
    "    __repr__ = __str__ = lambda self: \"WingStructure(\" + ', '.join(f\"{k}={self.__dict__[k]}\" for k in self.__dict__) + \")\"\n",
    "    area = lambda self: 0.5 * self.rc * (1 + self.taper) * self.span"
   ]
  },
  {
   "cell_type": "code",
   "execution_count": null,
   "id": "97bf4b9b",
   "metadata": {},
   "outputs": [],
   "source": []
  },
  {
   "cell_type": "code",
   "execution_count": 2,
   "id": "6afe1d12",
   "metadata": {},
   "outputs": [
    {
     "name": "stdout",
     "output_type": "stream",
     "text": [
      "stress, pitch, nstr = (24.571317224631212, 0.6, 0)\n",
      "stress, pitch, nstr = (43.882578059792706, 0.3, 1)\n",
      "stress, pitch, nstr = (60.037805061272344, 0.19999999999999998, 2)\n",
      "stress, pitch, nstr = (74.15089252331077, 0.15, 3)\n",
      "stress, pitch, nstr = (86.86672661625789, 0.12, 4)\n",
      "stress, pitch, nstr = (98.58452258842549, 0.09999999999999999, 5)\n",
      "stress, pitch, nstr = (109.56463821045166, 0.08571428571428572, 6)\n",
      "stress, pitch, nstr = (119.98411676637038, 0.075, 7)\n"
     ]
    },
    {
     "data": {
      "image/png": "[encoded data removed]",
      "text/plain": [
       "<Figure size 432x288 with 2 Axes>"
      ]
     },
     "metadata": {
      "needs_background": "light"
     },
     "output_type": "display_data"
    }
   ],
   "source": [
    "import matplotlib.pyplot as plt\n",
    "rootchord = 1\n",
    "ntofit=10\n",
    "thicknessOfStringer=1e-3\n",
    "wingbox_t = 0.0015\n",
    "# geom = dict(bflange1 = 0.02, bflange2 =0.02, tflange = 0.02, vflange = 0.035, tstr = 0.001)\n",
    "geom = dict(bflange1 = rootchord / (ntofit * 3), \n",
    "                            bflange2 = rootchord / (ntofit * 3),\n",
    "                            tflange = rootchord / (ntofit * 3),\n",
    "                            vflange = 1.5 * rootchord / (ntofit * 3),\n",
    "                            tstr = thicknessOfStringer)\n",
    "\n",
    "# geom2 = dict(bflange = 0.04, tflange = 0.02, vflange = 0.07, tstr = 0.001)\n",
    "# geom3 = dict(bflange1 = 0.02, bflange2 =0.02, tflange = 0.02, vflange = 0.07, tstr = 0.001)\n",
    "x = np.arange(0,8)\n",
    "y = []\n",
    "ptch = []\n",
    "for nstr in range(0,8):\n",
    "    wingbox = WingBox(wingbox_t, 0.01, rootchord*0.6, 0.085) # WingBox(1e-3, 3e-3, 0.3, 0.06)\n",
    "    wingbox.StrPlacement(nstr, 1, geom, 'Hat')\n",
    "    # wingbox2 = WingBox(1e-3, 10e-3, 1, 0.2)\n",
    "    # wingbox2.StrPlacement(8, 2, 0.001, geom2, 'Z')\n",
    "    # wingbox3 = WingBox(1e-3, 10e-3, 1, 0.2)\n",
    "    # wingbox3.StrPlacement(8, 2, 0.001, geom3, 'J')\n",
    "    # wingbox.str[0].cripplingStress(72e9, 0.33, 503e6)*1e-6\n",
    "    # print(wingbox.Bstress(72e9, 0.33, 275e6, 72e9, 0.33)*1e-6, wingbox.str[0].ccarea(),\n",
    "    #      (wingbox.Bstress(72e9, 0.33, 275e6, 72e9, 0.33)*1e-6) / (wingbox.b * wingbox.tsk + wingbox.str[0].ccarea()*8) * 1e-6)\n",
    "    # print(wingbox2.Bstress(72e9, 0.33, 275e6, 72e9, 0.33)*1e-6, wingbox2.str[0].ccarea(), \n",
    "    #      (wingbox2.Bstress(72e9, 0.33, 275e6, 72e9, 0.33)*1e-6) / (wingbox2.b * wingbox2.tsk + wingbox2.str[0].ccarea()*8) * 1e-6)\n",
    "    # print(wingbox3.Bstress(72e9, 0.33, 275e6, 72e9, 0.33)*1e-6, wingbox3.str[0].ccarea(), \n",
    "    #      (wingbox3.Bstress(72e9, 0.33, 275e6, 72e9, 0.33)*1e-6) / (wingbox3.b * wingbox3.tsk + wingbox3.str[0].ccarea()*8) * 1e-6)\n",
    "    stress = wingbox.Bstress(72e9, 0.33, 241e6, 72e9, 0.33)*1e-6\n",
    "    pitch = wingbox.tspitch\n",
    "    y.append(stress)\n",
    "    ptch.append(pitch)\n",
    "    print(f\"{stress, pitch, nstr = }\")\n",
    "figure, axs = plt.subplots(1, 2)\n",
    "axs[0].plot(x, np.array(y))\n",
    "axs[1].plot(x, np.array(ptch))\n",
    "axs[0].set_ylabel('Buckling stress [MPa]')\n",
    "axs[0].set_xlabel('Number of stringers [-]')\n",
    "axs[1].set_ylabel('Stringer pitch [-]')\n",
    "axs[1].set_xlabel('Number of stringers [-]')\n",
    "figure.tight_layout()\n",
    "figure.suptitle(f'Wingbox with skin thickness of {wingbox_t*1e3}mm and root chord of {rootchord}m')\n",
    "plt.subplots_adjust(top = 0.9)\n",
    "plt.show()\n",
    "figure.savefig('Buckling_verif.jpg')"
   ]
  },
  {
   "cell_type": "code",
   "execution_count": 14,
   "id": "90f7c475",
   "metadata": {},
   "outputs": [
    {
     "data": {
      "text/plain": [
       "214.9353564413934"
      ]
     },
     "execution_count": 14,
     "metadata": {},
     "output_type": "execute_result"
    }
   ],
   "source": [
    "geom_verif = dict(bflange1 = 0.02, bflange2 =0.02, tflange = 0.02, vflange = 0.035, tstr = 0.002)\n",
    "wingbox_verif = WingBox(0.0015, 0.01, 0.8, 0.153)\n",
    "wingbox_verif.StrPlacement(3,1,geom_verif, 'Hat')\n",
    "wingbox_verif.Bstress(72e9, 0.334, 503e6, 72e9, 0.334)*1e-6"
   ]
  },
  {
   "cell_type": "code",
   "execution_count": 3,
   "id": "35828f11",
   "metadata": {},
   "outputs": [
    {
     "data": {
      "text/plain": [
       "296.004438501156"
      ]
     },
     "execution_count": 3,
     "metadata": {},
     "output_type": "execute_result"
    }
   ],
   "source": [
    "# bflange1 = 0.05, bflange2 =0.05, tflange = 0.05, vflange = 0.05, tstr = 0.001\n",
    "# hatstr = HatStringer(bflange1 = 0.02, bflange2 =0.02, tflange = 0.02, vflange = 0.035, tstr = 0.002)\n",
    "# E, v, sigma_y = 72e9, 0.334, 503e6\n",
    "# hatstr.cripplingStress(E, v, sigma_y)*1e-6\n",
    "jstr = JStringer(bflange1 = 0.02, bflange2 =0.02, tflange = 0.02, vflange = 0.03, tstr = 0.0015)\n",
    "jstr.cripplingStress(72e9, 0.3, 450e6)*1e-6"
   ]
  },
  {
   "cell_type": "code",
   "execution_count": 4,
   "id": "57efd1f3",
   "metadata": {},
   "outputs": [
    {
     "name": "stdout",
     "output_type": "stream",
     "text": [
      "Wingbox(Height=0.0425, Base=0.3, Tsk = 0.0015, Tsp = 0.01, Stringers = 8) 0.5\n",
      "Wingbox(Height=0.0374, Base=0.264, Tsk = 0.0015, Tsp = 0.01, Stringers = 8) 0.44\n",
      "Wingbox(Height=0.0323, Base=0.22799999999999998, Tsk = 0.0015, Tsp = 0.01, Stringers = 8) 0.38\n",
      "Wingbox(Height=0.027200000000000002, Base=0.192, Tsk = 0.0015, Tsp = 0.01, Stringers = 8) 0.32\n",
      "Wingbox(Height=0.0221, Base=0.156, Tsk = 0.0015, Tsp = 0.01, Stringers = 8) 0.26\n",
      "Wingbox(Height=0.017, Base=0.12, Tsk = 0.0015, Tsp = 0.01, Stringers = 8) 0.2\n"
     ]
    }
   ],
   "source": [
    "wing = WingStructure(10, 0.4, 0.5, wingbox)\n",
    "for i in range(6):\n",
    "    print(wing(i), wing.chord(i))"
   ]
  },
  {
   "cell_type": "code",
   "execution_count": 5,
   "id": "33a06f7d",
   "metadata": {},
   "outputs": [
    {
     "ename": "NameError",
     "evalue": "name 'wingequation' is not defined",
     "output_type": "error",
     "traceback": [
      "\u001b[0;31m---------------------------------------------------------------------------\u001b[0m",
      "\u001b[0;31mNameError\u001b[0m                                 Traceback (most recent call last)",
      "\u001b[0;32m<ipython-input-5-4e28225f4ea8>\u001b[0m in \u001b[0;36m<module>\u001b[0;34m\u001b[0m\n\u001b[0;32m----> 1\u001b[0;31m \u001b[0mwing\u001b[0m \u001b[0;34m=\u001b[0m \u001b[0mWingStructure\u001b[0m\u001b[0;34m(\u001b[0m\u001b[0mwingequation\u001b[0m\u001b[0;34m)\u001b[0m\u001b[0;34m\u001b[0m\u001b[0;34m\u001b[0m\u001b[0m\n\u001b[0m\u001b[1;32m      2\u001b[0m \u001b[0mwing\u001b[0m\u001b[0;34m.\u001b[0m\u001b[0mcompute_loading\u001b[0m\u001b[0;34m(\u001b[0m\u001b[0;34m)\u001b[0m\u001b[0;34m\u001b[0m\u001b[0;34m\u001b[0m\u001b[0m\n\u001b[1;32m      3\u001b[0m \u001b[0mshow\u001b[0m\u001b[0;34m(\u001b[0m\u001b[0mwing\u001b[0m\u001b[0;34m.\u001b[0m\u001b[0mMy\u001b[0m\u001b[0;34m)\u001b[0m\u001b[0;34m\u001b[0m\u001b[0;34m\u001b[0m\u001b[0m\n\u001b[1;32m      4\u001b[0m \u001b[0mshow\u001b[0m\u001b[0;34m(\u001b[0m\u001b[0mwing\u001b[0m\u001b[0;34m.\u001b[0m\u001b[0mcompute_deflections\u001b[0m\u001b[0;34m(\u001b[0m\u001b[0;36m60e9\u001b[0m\u001b[0;34m,\u001b[0m \u001b[0;36m1.005e-4\u001b[0m\u001b[0;34m,\u001b[0m \u001b[0;36m1.005e-2\u001b[0m\u001b[0;34m)\u001b[0m\u001b[0;34m[\u001b[0m\u001b[0;36m0\u001b[0m\u001b[0;34m]\u001b[0m\u001b[0;34m)\u001b[0m\u001b[0;34m\u001b[0m\u001b[0;34m\u001b[0m\u001b[0m\n",
      "\u001b[0;31mNameError\u001b[0m: name 'wingequation' is not defined"
     ]
    }
   ],
   "source": [
    "wing = WingStructure(wingequation)\n",
    "wing.compute_loading()\n",
    "show(wing.My)\n",
    "show(wing.compute_deflections(60e9, 1.005e-4, 1.005e-2)[0])"
   ]
  },
  {
   "cell_type": "code",
   "execution_count": null,
   "id": "a7a9c48d",
   "metadata": {},
   "outputs": [],
   "source": [
    "\n",
    "box = WingBox()"
   ]
  },
  {
   "cell_type": "markdown",
   "id": "42b06eed",
   "metadata": {},
   "source": [
    "## Data Processing"
   ]
  },
  {
   "cell_type": "code",
   "execution_count": null,
   "id": "bcbaf9cd",
   "metadata": {},
   "outputs": [],
   "source": [
    "import numpy as np\n",
    "\n",
    "materials = pd.read_html('https://mechanicalc.com/reference/material-properties-tables')\n",
    "matdfs = {\"Carbon Steel\": materials[1], \"Alloy Steel\": materials[2], \"Stainless Steel\": materials[3], \"Cast Iron\": materials[4],\n",
    "         \"Aluminum Alloys\": materials[5], \"Nickel Alloys\": materials[6], \"Copper Alloys\": materials[7], \"Titanium Alloys\": materials[8]}\n",
    "\n",
    "for m in matdfs:\n",
    "    matdfs[m]['Class'] = m\n",
    "    matdfs[m] = matdfs[m].iloc[:-1]\n",
    "df = pd.concat(matdfs.values())\n",
    "description = {}\n",
    "num_cols = ['YieldStrength [ksi]', 'UltimateStrength [ksi]', 'Elongation%', 'Density[lb/in3]', \"Poisson'sRatio\"]\n",
    "for num in num_cols:\n",
    "    tit = ''.join([letter for letter in num if letter not in ['[', ']', '/', '3', ' ', '%', \"'\", \"'\"] and letter.upper() == letter])\n",
    "    description[tit] = num\n",
    "    df[tit] = pd.to_numeric(df[num], errors='coerce')\n",
    "\n",
    "df.drop(columns=num_cols, inplace=True)\n",
    "\n",
    "df[['YS', 'US']] *= 6.89476e6 # psi --> Pa\n",
    "df['ElasticModulus [psi]'] = df['ElasticModulus [psi]'].apply(lambda x: np.mean(np.float64(x.replace('e6', '').split(' - '))) * 6.89476e9)\n",
    "df['D'] *= 27679.9 # lb/in3 --> kg/m3\n",
    "df.E /= 100 # %\n",
    "df.rename(columns={'E': 'elong', 'ElasticModulus [psi]': 'E', 'D': 'rho', 'US': 'oult', 'YS': 'oyield', 'PR': 'v'}, inplace=True)\n",
    "df = df.replace('---', np.nan)\n",
    "df.head()"
   ]
  },
  {
   "cell_type": "code",
   "execution_count": null,
   "id": "8e6fbeca",
   "metadata": {},
   "outputs": [],
   "source": [
    "paris = pd.read_json('materials.json')\n",
    "\n",
    "def transform(x):\n",
    "    clm = [col for col in paris.columns if col in x['Class']]\n",
    "    if len(clm):\n",
    "        x['ParisA'] = paris[clm[0]]['A']\n",
    "        x['Parism'] = paris[clm[0]]['m']\n",
    "    return x\n",
    "\n",
    "df = df.apply(transform, axis=1)\n",
    "df.head()"
   ]
  },
  {
   "cell_type": "code",
   "execution_count": null,
   "id": "2151fa4a",
   "metadata": {},
   "outputs": [],
   "source": [
    "df.to_csv('materials.csv', index=False)"
   ]
  },
  {
   "cell_type": "markdown",
   "id": "ec09f456",
   "metadata": {},
   "source": [
    "## Materials"
   ]
  },
  {
   "cell_type": "code",
   "execution_count": 7,
   "id": "20335e02",
   "metadata": {
    "tags": []
   },
   "outputs": [
    {
     "name": "stdout",
     "output_type": "stream",
     "text": [
      "Overwriting Material.py\n"
     ]
    }
   ],
   "source": [
    "%%file Material.py\n",
    "import pandas as pd\n",
    "from scipy.integrate import quad\n",
    "from numpy import cos, sin, pi\n",
    "\n",
    "class Material:\n",
    "    def __init__(self, E, density, o_yield, o_ult, Paris=(None, None), name=None, poisson=0.33, SNfp = 1697, SNb = -0.176, **others):\n",
    "        self.E, self.rho, self.oy, self.oult, self.v = E, density, o_yield, o_ult, poisson\n",
    "        self.C, self.m = Paris\n",
    "        self.props = others\n",
    "        self.name = name\n",
    "        self.SNfp, self.SNb = SNfp, SNb\n",
    "        \n",
    "    __repr__ = __str__ = lambda self: (self.name if self.name else \"Material\")+f\"(E={self.E}, ρ={self.rho}, σy={self.oy}, σult={self.oult})\"\n",
    "    \n",
    "    def buckling(self, shorterSideOfSkin, skinThickness):\n",
    "        C = 5.41 # SSCS Support\n",
    "        b = shorterSideOfSkin\n",
    "        t = skinThickness\n",
    "        return C * pi * pi * self.E * (t / b) ** 2 / (12 * (1 - self.v ** 2))\n",
    "    \n",
    "    @staticmethod\n",
    "    def load(file='materials.csv', material='Al 6061', Condition='T6'):\n",
    "        df = pd.read_csv(file)\n",
    "        check = df[df['Material'] == material]\n",
    "        if len(check) == 0:\n",
    "            raise KeyError(f'No {material = } could be found')\n",
    "        elif len(check) == 1:\n",
    "            mat = check.iloc[0]\n",
    "        else:\n",
    "            mat = check[check['Condition'] == Condition].iloc[0]\n",
    "        return Material(mat.E, mat.rho, mat.oyield, mat.oult, (mat.ParisA, mat.Parism), mat.Material, mat.v)\n",
    "    \n",
    "    @staticmethod\n",
    "    def beta(aow, center=False): \n",
    "        return (1/cos(pi * aow)) ** 0.5 if center else 1.1215 # pg 131\n",
    "\n",
    "    @staticmethod\n",
    "    def StressConcentration(beta, a, o):\n",
    "        return beta * o * (pi * a) ** 0.5\n",
    "    \n",
    "    def ParisFatigueN(self, Smax, Smin, w, ai, af):\n",
    "        R, dS = Smin / Smax, Smax - Smin\n",
    "        U = 0.5 + 0.4 * R\n",
    "        def integrand(a):\n",
    "            beta = self.beta(a/w)\n",
    "            return 1 / (U * self.StressConcentration(beta, a, dS))**self.m\n",
    "        N = (1/self.C) * quad(integrand, ai, af)[0]\n",
    "        return N\n",
    "    \n",
    "    ParisFatigueda = lambda self, a, w, Smax, Smin, n: \\\n",
    "        (0.5 + 0.4 * abs(Smin / Smax)) * n * self.C * (self.beta(a/w) * abs(Smax - Smin) * (pi * a) ** 0.5) ** self.m \n",
    "    \n",
    "    BasquinLaw = lambda self, S: (S / self.SNfp) ** (1 / self.SNb)"
   ]
  },
  {
   "cell_type": "code",
   "execution_count": 27,
   "id": "441bcb8e",
   "metadata": {},
   "outputs": [
    {
     "data": {
      "text/plain": [
       "497996570.7386181"
      ]
     },
     "execution_count": 27,
     "metadata": {},
     "output_type": "execute_result"
    }
   ],
   "source": [
    "al = Material.load(file='../data/materials.csv', material='Al 7075')\n",
    "al.BasquinLaw(100 / 2)"
   ]
  },
  {
   "cell_type": "code",
   "execution_count": 46,
   "id": "fd1b0e24",
   "metadata": {},
   "outputs": [
    {
     "data": {
      "text/plain": [
       "1.0958225391725043"
      ]
     },
     "execution_count": 46,
     "metadata": {},
     "output_type": "execute_result"
    }
   ],
   "source": [
    "steel = Material.load(file='../data/materials.csv', material='AISI 1045', Condition='Annealed')\n",
    "steel.C = 1.294e-12\n",
    "steel.m = 3.4\n",
    "steel.ParisFatigueN(100, 0, 1, 5e-3, 100e-3) / steel.ParisFatigueN(100, 0, 1, 5e-3, 50e-3)"
   ]
  },
  {
   "cell_type": "code",
   "execution_count": null,
   "id": "78e1f0e9",
   "metadata": {},
   "outputs": [],
   "source": []
  },
  {
   "cell_type": "code",
   "execution_count": null,
   "id": "58e70bd3",
   "metadata": {},
   "outputs": [],
   "source": [
    "materials = pd.read_csv('../data/materials.csv')\n",
    "materials['Cost'] = materials.rho / materials.E ** (1/3)\n",
    "costs = materials.groupby('Class').agg({'Cost': 'max'}).reset_index()\n",
    "costsal = materials[materials['Class'] == 'Aluminum Alloys'].groupby(['Material', 'Condition']).agg({'Cost': 'max'}).reset_index()\n",
    "materials.info()"
   ]
  },
  {
   "cell_type": "code",
   "execution_count": null,
   "id": "5eaf20c7",
   "metadata": {},
   "outputs": [],
   "source": [
    "plt.figure(figsize=(18, 8))\n",
    "plt.subplot(1, 2, 1)\n",
    "plt.xticks(rotation=45)\n",
    "sns.barplot(x='Class', y='Cost', data=costs)\n",
    "plt.ylabel(r'Cost $\\left(kg \\times m^{-3} \\times MPa^{-1/3} \\right)$')\n",
    "plt.subplot(1, 2, 2)\n",
    "plt.xticks(rotation=45)\n",
    "sns.barplot(x='Material', y='Cost', data=costsal, palette='rainbow')\n",
    "plt.ylabel(r'Cost $\\left(kg \\times m^{-3} \\times MPa^{-1/3} \\right)$')\n",
    "plt.savefig('materials.jpg')"
   ]
  },
  {
   "cell_type": "code",
   "execution_count": null,
   "id": "b6ec2dcb",
   "metadata": {},
   "outputs": [],
   "source": [
    "import plotly.express as px\n",
    "fig = px.bar(costs, x='Class', y='Cost', color='Class', height=400)\n",
    "fig.show(renderer='iframe')"
   ]
  },
  {
   "cell_type": "markdown",
   "id": "aa0d96c4",
   "metadata": {},
   "source": [
    "## Structural Analysis"
   ]
  },
  {
   "cell_type": "code",
   "execution_count": null,
   "id": "76f418ef",
   "metadata": {},
   "outputs": [],
   "source": [
    "# %%file StructuralAnalysis.py\n",
    "import sys\n",
    "import json\n",
    "import numpy as np\n",
    "sys.path.append('../')\n",
    "sys.path.append('../Sizing')\n",
    "from constants import *\n",
    "from maneuvre import plotgustenv, plotmaneuvrenv\n",
    "\n",
    "from cg_est import Wing, Fuselage, LandingGear, Propulsion, Weight\n",
    "from SolveLoads import SolveACLoads, SolveWingLoads, SolveVLoads, SolveVWingLoads\n",
    "from Analysis import WingBox, WingStructure\n",
    "from Material import Material\n",
    "\n",
    "config = inputconfig\n",
    "WoS = 1422\n",
    "Pmax = 8.77182\n",
    "mProp = 400 / N_cruise\n",
    "thickness = 3e-3\n",
    "w_fus= 1.3; h_fus=1.6; l_fus=4\n",
    "\n",
    "nmax = max(plotgustenv(0.75 * V_cruise, V_cruise, CLalpha_back, WoS), plotmaneuvrenv(WoS, V_cruise, CLmax_back))\n",
    "\n",
    "w = Weight(95, Wing(mTO, S_front, S_back, 1.5*nmax, AR, [0.4, 3.6], config),\n",
    "           Fuselage(mTO, Pmax, l_fus, 5, l_fus/2, config),\n",
    "          LandingGear(mTO, l_fus/2),\n",
    "          Propulsion(N_cruise, [mProp]*N_cruise, pos_prop=[3.6]*int(N_cruise/2) + [0.4]*int(N_cruise/2)),\n",
    "          cargo_m, cargo_p, Bat_mass, l_fus/2, [0.8, 1.3, 1.3, 2.5, 2.5])\n",
    "\n",
    "wf = w.print_weight_fractions()\n",
    "b = (S_front * AR) ** 0.5\n",
    "\n",
    "LpWing = SolveACLoads(w.mtom_cg, *w.wing.pos)\n",
    "\n",
    "wingEquation = SolveWingLoads(MAC1, b, 1.5*nmax*LpWing[0]/2, mTO*9.81 / LD_ratio, w.wing.get_weight()[0]/2, \n",
    "                              mTO*9.81 / (LD_ratio*N_cruise), N_cruise)\n",
    "\n",
    "wingEquation.SetupEquation()\n",
    "Fx, Fy, Fz, Mx, My, Mz = wingEquation.SolveEquation()\n",
    "wingS = WingStructure(wingEquation)\n",
    "N, Vx, Vy, Mx, My, Mz = wingS.compute_loading()\n",
    "\n",
    "box = WingBox(thickness, 0.8 * c_r, 0.8 * 0.17 * c_r)\n",
    "tau = lambda x, y, z: box.tau(x, y, Vx(z), Vy(z), Mz(z))\n",
    "ozz = lambda x, y, z: box.o(x, y, Mx(z), My(z)) + N(z) / box.Area()\n",
    "\n",
    "stresses = np.array([[ozz(x, y, 0) for x in np.linspace(-box.b/2, box.b/2)] for y in np.linspace(-box.h/2, box.h/2)], dtype='float64')\n",
    "am = stresses.argmax()\n",
    "\n",
    "omax, taumax = stresses.flatten()[am]*1e-6, tau(box.b/2, -box.h/2, 0)*1e-6\n",
    "\n",
    "Ymax = (omax ** 2 + 3 * taumax ** 2) ** 0.5\n",
    "\n",
    "aluminum = Material.load(file='materials.csv', material='Al 6061', Condition='T6')\n",
    "N = aluminum.ParisFatigueN(stresses.flatten()[am], box.b, box.t / 3, box.t/2)\n",
    "# aluminum.StressConcentration(aluminum.beta(0.01), 50e-3, 100*1e6)\n",
    "\n",
    "xd, yd = wingS.compute_deflections(aluminum.E, box.Ixx(), box.Iyy())\n",
    "\n",
    "critBuckling = aluminum.buckling(box.h, box.t)*1e-6\n",
    "wingS = WingStructure(wingEquation)\n",
    "\n",
    "ThrustVTOL = SolveVLoads(w.mtom_cg, *w.wing.pos)\n",
    "wingVTOL = SolveVWingLoads(MAC1, b, mTO*9.81 / LD_ratio, w.wing.get_weight()[0]/2,\n",
    "                        sum(ThrustVTOL) / (N_hover), N_hover)\n",
    "\n",
    "Fx, My = wingVTOL.SolveEquation()\n",
    "\n",
    "box = WingBox(thickness, 0.8 * c_r, 0.8 * 0.17 * c_r) if config != 1 else WingBox(thickness, 0.8 * 0.17 * c_r, 0.8 * c_r)\n",
    "\n",
    "ozzVTOL = lambda x, y: box.o(x, y, 0, My) + Fz / box.Area()\n",
    "tauVTOL = lambda x, y: box.tau(x, y, Fx)\n",
    "\n",
    "stresses = np.array([[ozzVTOL(x, y) for x in np.linspace(-box.b/2, box.b/2)] for y in np.linspace(-box.h/2, box.h/2)], dtype='float64')\n",
    "am = stresses.argmax()\n",
    "\n",
    "omaxVTOL, taumaxVTOL = stresses.flatten()[am]*1e-6, tauVTOL(0, -box.h/2)*1e-6\n",
    "\n",
    "YmaxVTOL = (omaxVTOL ** 2 + 3 * taumaxVTOL ** 2) ** 0.5\n",
    "\n",
    "output = dict(config = config, WingLoading = WoS, maxPerimeter = Pmax, mPropellers = mProp, weightFractions = wf,\n",
    "              MaxNormalStress=omax, MaxShearStress=taumax, critBucklingStress=critBuckling, fatigueLife=N, deflectionX = xd(b/2),\n",
    "             deflectionY = yd(b/2), maxVonMises = Ymax, EOW = w.oem*9.81, MTOW = w.mtom*9.81, cgOEM = w.oem_cg, cgMTOM = w.mtom_cg,\n",
    "             Passed = bool(omax < critBuckling and N > 365 * 3 * 15 and Ymax < aluminum.oy), w_fus= 1.3, h_fus=1.6, l_fus=4,\n",
    "             omaxVTOL = omaxVTOL, taumaxVTOL = taumaxVTOL)\n",
    "\n",
    "\n",
    "\n",
    "\n",
    "with open(\"output.json\", \"r\") as o:\n",
    "    dic = json.loads(o.read())\n",
    "\n",
    "dic[[\"Tandem\", \"Box\", \"Single\"][config - 1]] = output\n",
    "# print(output)\n",
    "\n",
    "op = json.dumps(dic, indent=3)\n",
    "\n",
    "with open(\"output.json\", \"w\") as out:\n",
    "    out.write(op)\n",
    "\n",
    "\n",
    "# with open(f\"../data/inputs_config_{config}.json\", \"r\") as f:\n",
    "#     dic = json.loads(f.read())\n",
    "\n",
    "# dic[\"Structures\"] = output\n",
    "# op = json.dumps(dic, indent=3)\n",
    "\n",
    "# with open(f\"../data/inputs_config_{config}.json\", \"w\") as f:\n",
    "#     f.write(op)"
   ]
  },
  {
   "cell_type": "code",
   "execution_count": null,
   "id": "774b3b69",
   "metadata": {},
   "outputs": [],
   "source": [
    "from IPython.display import Math, display\n",
    "show = lambda func: display(Math(func.__str__()))\n",
    "show(Vy)\n",
    "show(Mx.derivative())\n"
   ]
  }
 ],
 "metadata": {
  "kernelspec": {
   "display_name": "Python 3 (ipykernel)",
   "language": "python",
   "name": "python3"
  },
  "language_info": {
   "codemirror_mode": {
    "name": "ipython",
    "version": 3
   },
   "file_extension": ".py",
   "mimetype": "text/x-python",
   "name": "python",
   "nbconvert_exporter": "python",
   "pygments_lexer": "ipython3",
   "version": "3.9.7"
  }
 },
 "nbformat": 4,
 "nbformat_minor": 5
}
